{
  "nbformat": 4,
  "nbformat_minor": 0,
  "metadata": {
    "colab": {
      "provenance": [],
      "gpuType": "T4",
      "authorship_tag": "ABX9TyN5LIx//Ty1FCu9aksIEEdb",
      "include_colab_link": true
    },
    "kernelspec": {
      "name": "python3",
      "display_name": "Python 3"
    },
    "language_info": {
      "name": "python"
    },
    "accelerator": "GPU"
  },
  "cells": [
    {
      "cell_type": "markdown",
      "metadata": {
        "id": "view-in-github",
        "colab_type": "text"
      },
      "source": [
        "<a href=\"https://colab.research.google.com/github/YashwanthReddyKongara/LMS-Assignments/blob/main/Mar_11th_AD_(Gemini_AI_Analysis).ipynb\" target=\"_parent\"><img src=\"https://colab.research.google.com/assets/colab-badge.svg\" alt=\"Open In Colab\"/></a>"
      ]
    },
    {
      "cell_type": "code",
      "execution_count": 36,
      "metadata": {
        "id": "prevYnSeWXY8"
      },
      "outputs": [],
      "source": [
        "import google.generativeai as genai\n",
        "from google.colab import userdata\n",
        "GOOGLE_API_KEY=userdata.get('GOOGLE_API_KEY')\n",
        "genai.configure(api_key=GOOGLE_API_KEY)"
      ]
    },
    {
      "cell_type": "code",
      "source": [],
      "metadata": {
        "id": "N6wdPDDfbmAF"
      },
      "execution_count": 26,
      "outputs": []
    },
    {
      "cell_type": "code",
      "source": [
        "import pathlib\n",
        "import textwrap\n",
        "from IPython.display import display, Markdown\n",
        "def to_markdown(text):\n",
        "  text = text.replace('•', '  *')\n",
        "  return Markdown(textwrap.indent(text, '> ', predicate=lambda _: True))"
      ],
      "metadata": {
        "id": "rQOmxNIoZQuu"
      },
      "execution_count": 37,
      "outputs": []
    },
    {
      "cell_type": "code",
      "source": [
        "import PIL.Image\n",
        "img = PIL.Image.open(\"image1.jpg\")\n",
        "img\n",
        "model = genai.GenerativeModel('gemini-1.5-flash')\n",
        "response = model.generate_content([\"Write a short, engaging blog post based on this picture. It should include a description of the meal in the photo and talk about my journey meal prepping.\", img], stream=True)\n",
        "response.resolve()"
      ],
      "metadata": {
        "id": "EjsnMeAOZeK8"
      },
      "execution_count": 38,
      "outputs": []
    },
    {
      "cell_type": "code",
      "source": [
        "import pathlib\n",
        "\n",
        "import textwrap\n",
        "\n",
        "from IPython.display import display, Markdown\n",
        "\n",
        "def to_markdown(text):\n",
        "\n",
        "  text = text.replace('•', '  *')\n",
        "\n",
        "  return Markdown(textwrap.indent(text, '> ', predicate=lambda _: True))"
      ],
      "metadata": {
        "id": "CdZ3ZCtkjf80"
      },
      "execution_count": 39,
      "outputs": []
    },
    {
      "cell_type": "code",
      "source": [
        "to_markdown(response.text)"
      ],
      "metadata": {
        "colab": {
          "base_uri": "https://localhost:8080/",
          "height": 475
        },
        "id": "GVQd0YE-c4sM",
        "outputId": "dda022be-aa5e-4186-fbc0-6514e3e71bc3"
      },
      "execution_count": 40,
      "outputs": [
        {
          "output_type": "execute_result",
          "data": {
            "text/plain": [
              "<IPython.core.display.Markdown object>"
            ],
            "text/markdown": "> ## My Meal Prep Journey: From Chaos to Deliciousness!\n> \n> Look at these beauties!  These aren't just any lunch containers; they're my ticket to a healthier, happier, and *significantly* less stressful week.  What you see are two portions of my latest meal prep masterpiece:  a vibrant mix of teriyaki chicken, fluffy white rice, perfectly steamed broccoli, and a medley of colorful bell peppers.  Seriously, the colors alone make me happy!\n> \n> My meal prep journey hasn't always been this picture-perfect.  For years, I was the queen of last-minute, unhealthy takeout decisions.  My evenings were a whirlwind of rushing around, grabbing whatever was convenient, and inevitably feeling sluggish and guilty afterwards.\n> \n> Then, something shifted. I realized how much more energy and focus I had when I was eating nutritious, home-cooked meals.  It started small – a single batch of chicken and veggies on a Sunday.  Gradually, I expanded my repertoire, experimenting with different recipes and finding what worked best for my taste buds and schedule.\n> \n> This teriyaki chicken and veggie bowl is a testament to that journey. It’s packed with protein and nutrients, and it tastes absolutely amazing! The best part?  It takes about an hour to prep everything on a Sunday, and I have delicious, healthy lunches ready for the entire week.\n> \n> The transition wasn’t always easy.  There were some epic fails (remember the time the broccoli turned to mush?). But with practice, I discovered what works for me.  Whether it’s prepping ingredients in advance or using simple, one-pan recipes, the key is to find a system that fits your lifestyle.\n> \n> So, if you’re thinking about starting your own meal prep adventure, jump in! Don't be intimidated. It's a rewarding process that can significantly improve your eating habits and overall wellbeing.  Trust me, the delicious results (and the extra time you’ll have during the week) are totally worth it.  Now, if you'll excuse me, I need to go grab one of these beauties for lunch!\n"
          },
          "metadata": {},
          "execution_count": 40
        }
      ]
    },
    {
      "cell_type": "code",
      "source": [
        "response = model.generate_content([\"Generate an accurate captionfor this image.\", img])\n",
        "print(response.text)"
      ],
      "metadata": {
        "colab": {
          "base_uri": "https://localhost:8080/",
          "height": 419
        },
        "id": "3VMxNm1VeNz3",
        "outputId": "bd717c0c-ae22-4166-8589-9b70dbb826f0"
      },
      "execution_count": 41,
      "outputs": [
        {
          "output_type": "stream",
          "name": "stdout",
          "text": [
            "Here are a few caption options for the image:\n",
            "\n",
            "**Option 1 (Simple & Descriptive):**\n",
            "\n",
            "> Healthy and delicious meal prep!  Chicken and broccoli stir-fry over rice.\n",
            "\n",
            "**Option 2 (More Engaging):**\n",
            "\n",
            "> Lunch goals!  These chicken and veggie bowls are packed with flavor and ready to go.  Perfect for busy weekdays. #mealprep #healthyfood #lunchideas\n",
            "\n",
            "**Option 3 (Focus on Convenience):**\n",
            "\n",
            "> Make your week easier with these easy-to-grab lunch containers.  Chicken, broccoli, carrots, and rice - the perfect balanced meal. #mealprepsunday #healthylifestyle #convenientmeals\n",
            "\n",
            "\n",
            "**Option 4 (Question to engage audience):**\n",
            "\n",
            "> What's your favorite healthy meal prep idea?  These chicken and veggie bowls are definitely on my list! #healthyfood #mealprepideas #whattoeat\n",
            "\n",
            "\n",
            "Choose the caption that best suits your intended audience and platform.  Remember to add relevant hashtags for better reach.\n",
            "\n"
          ]
        }
      ]
    },
    {
      "cell_type": "code",
      "source": [
        "from PIL import Image\n",
        "image_path = \"girl.jpg\"\n",
        "image = Image.open(image_path)\n",
        "response = model.generate_content([\"Describe this image in detail.\", image])\n",
        "print(response.text)"
      ],
      "metadata": {
        "colab": {
          "base_uri": "https://localhost:8080/",
          "height": 211
        },
        "id": "MNZPJfzJg8lL",
        "outputId": "91900f08-5202-4b79-b86f-480eb08f643c"
      },
      "execution_count": 42,
      "outputs": [
        {
          "output_type": "stream",
          "name": "stdout",
          "text": [
            "Here's a description of the image:\n",
            "\n",
            "Close-up view of a woman with shoulder-length, curly brown hair. \n",
            "\n",
            "\n",
            "She is light-skinned and has a warm, friendly expression, with a slight smile. Her eyes are dark, and her makeup is subtle. She's wearing a teal or turquoise three-quarter sleeve top with a small, repeating gold pattern. The top has a simple neckline. Her arms are crossed, and her right index finger is pointed outward, suggesting she's indicating something off-camera. \n",
            "\n",
            "\n",
            "The background is a plain, bright white, which keeps the focus entirely on the woman. The overall impression is one of approachability and perhaps advertising or instruction due to the pointing gesture. The lighting is even and soft, minimizing shadows.\n",
            "\n"
          ]
        }
      ]
    },
    {
      "cell_type": "code",
      "source": [
        "response = model.generate_content([\"What emotions can you detect in this image?\", image])\n",
        "print(response.text)"
      ],
      "metadata": {
        "colab": {
          "base_uri": "https://localhost:8080/",
          "height": 72
        },
        "id": "4PcXYeRnhrs9",
        "outputId": "f611e4a5-e3b5-4630-99bc-319106561748"
      },
      "execution_count": 43,
      "outputs": [
        {
          "output_type": "stream",
          "name": "stdout",
          "text": [
            "The woman in the image appears to be expressing **confidence**, **friendliness**, and possibly **helpfulness** or **guidance**.  Her smile and direct gaze suggest approachability, while her pointing gesture indicates she is offering information or direction.  There's a positive and welcoming vibe overall.\n",
            "\n"
          ]
        }
      ]
    },
    {
      "cell_type": "code",
      "source": [
        "image_path=\"quote.jpg\"\n",
        "image = Image.open(image_path)\n",
        "response = model.generate_content([\"Extract and read the text from this image\", image])\n",
        "print(response.text)"
      ],
      "metadata": {
        "colab": {
          "base_uri": "https://localhost:8080/",
          "height": 86
        },
        "id": "fGHKLgLsjwwn",
        "outputId": "eb4857ec-2471-4506-b9ce-d1399e4cf53f"
      },
      "execution_count": 44,
      "outputs": [
        {
          "output_type": "stream",
          "name": "stdout",
          "text": [
            "FAILURE is not the\n",
            "opposite of success\n",
            "it's PART OF\n",
            "SUCCESS\n"
          ]
        }
      ]
    },
    {
      "cell_type": "code",
      "source": [],
      "metadata": {
        "id": "MCp9G9uUhvOs"
      },
      "execution_count": null,
      "outputs": []
    }
  ]
}