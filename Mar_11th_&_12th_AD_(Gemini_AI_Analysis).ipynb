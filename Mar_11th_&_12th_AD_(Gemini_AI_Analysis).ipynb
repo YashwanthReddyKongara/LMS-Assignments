{
  "nbformat": 4,
  "nbformat_minor": 0,
  "metadata": {
    "colab": {
      "provenance": [],
      "gpuType": "T4",
      "authorship_tag": "ABX9TyOZjnfGfAueGahgf9+aHExM",
      "include_colab_link": true
    },
    "kernelspec": {
      "name": "python3",
      "display_name": "Python 3"
    },
    "language_info": {
      "name": "python"
    },
    "accelerator": "GPU"
  },
  "cells": [
    {
      "cell_type": "markdown",
      "metadata": {
        "id": "view-in-github",
        "colab_type": "text"
      },
      "source": [
        "<a href=\"https://colab.research.google.com/github/YashwanthReddyKongara/LMS-Assignments/blob/main/Mar_11th_%26_12th_AD_(Gemini_AI_Analysis).ipynb\" target=\"_parent\"><img src=\"https://colab.research.google.com/assets/colab-badge.svg\" alt=\"Open In Colab\"/></a>"
      ]
    },
    {
      "cell_type": "code",
      "execution_count": null,
      "metadata": {
        "id": "prevYnSeWXY8"
      },
      "outputs": [],
      "source": [
        "import google.generativeai as genai\n",
        "from google.colab import userdata\n",
        "GOOGLE_API_KEY=userdata.get('GOOGLE_API_KEY')\n",
        "genai.configure(api_key=GOOGLE_API_KEY)"
      ]
    },
    {
      "cell_type": "code",
      "source": [],
      "metadata": {
        "id": "N6wdPDDfbmAF"
      },
      "execution_count": null,
      "outputs": []
    },
    {
      "cell_type": "code",
      "source": [
        "import pathlib\n",
        "import textwrap\n",
        "from IPython.display import display, Markdown\n",
        "def to_markdown(text):\n",
        "  text = text.replace('•', '  *')\n",
        "  return Markdown(textwrap.indent(text, '> ', predicate=lambda _: True))"
      ],
      "metadata": {
        "id": "rQOmxNIoZQuu"
      },
      "execution_count": null,
      "outputs": []
    },
    {
      "cell_type": "code",
      "source": [
        "import PIL.Image\n",
        "img = PIL.Image.open(\"image1.jpg\")\n",
        "img\n",
        "model = genai.GenerativeModel('gemini-1.5-flash')\n",
        "response = model.generate_content([\"Write a short, engaging blog post based on this picture. It should include a description of the meal in the photo and talk about my journey meal prepping.\", img], stream=True)\n",
        "response.resolve()"
      ],
      "metadata": {
        "id": "EjsnMeAOZeK8"
      },
      "execution_count": null,
      "outputs": []
    },
    {
      "cell_type": "code",
      "source": [
        "import pathlib\n",
        "\n",
        "import textwrap\n",
        "\n",
        "from IPython.display import display, Markdown\n",
        "\n",
        "def to_markdown(text):\n",
        "\n",
        "  text = text.replace('•', '  *')\n",
        "\n",
        "  return Markdown(textwrap.indent(text, '> ', predicate=lambda _: True))"
      ],
      "metadata": {
        "id": "CdZ3ZCtkjf80"
      },
      "execution_count": null,
      "outputs": []
    },
    {
      "cell_type": "code",
      "source": [
        "to_markdown(response.text)"
      ],
      "metadata": {
        "colab": {
          "base_uri": "https://localhost:8080/",
          "height": 492
        },
        "id": "GVQd0YE-c4sM",
        "outputId": "1b9e731e-8637-41e4-b4ce-75b949e4b325"
      },
      "execution_count": null,
      "outputs": [
        {
          "output_type": "execute_result",
          "data": {
            "text/plain": [
              "<IPython.core.display.Markdown object>"
            ],
            "text/markdown": "> Here's a blog post based on the image:\n> \n> ## My Meal Prep Journey: From Chaos to Colourful Containers!\n> \n> Let's be honest, meal prepping isn't always glamorous.  It can feel like a chore, especially when you're juggling work, family, and a social life. But the rewards are totally worth it!  For me, it's been a game-changer, and these vibrant containers are proof.\n> \n> Look at this deliciousness!  These are two of my prepped lunches for the week. Each one is a hearty serving of fluffy white rice, perfectly tender chicken stir-fry, vibrant roasted carrots and bell peppers, and a generous helping of broccoli.  It's packed with protein, veggies, and just the right amount of deliciousness to keep me going throughout the day. No more midday slump!\n> \n> My meal prep journey started out rocky.  I'd attempt ambitious recipes, only to end up with a fridge full of sad-looking leftovers that went uneaten.  I’d lose motivation easily. Then I realized that less is more.  Simplicity is key.  I started with one or two basic, healthy meals that I genuinely enjoyed.  It also helped to have a plan! I’d make a list of recipes based on what was on sale in the grocery store and schedule time on my weekends dedicated solely to prepping.\n> \n> This week's success is due to a simple strategy:  chicken and veggie stir-fry over rice. The result is fresh, flavorful and easily portioned out. This eliminates the need for last-minute cooking stress during the week, and I'm eating healthier because of it.\n> \n> What are your meal prep secrets? Share them in the comments below! Let's inspire each other to conquer the week, one delicious and healthy meal at a time.\n"
          },
          "metadata": {},
          "execution_count": 6
        }
      ]
    },
    {
      "cell_type": "code",
      "source": [
        "response = model.generate_content([\"Generate an accurate captionfor this image.\", img])\n",
        "print(response.text)"
      ],
      "metadata": {
        "colab": {
          "base_uri": "https://localhost:8080/",
          "height": 401
        },
        "id": "3VMxNm1VeNz3",
        "outputId": "00cfb31e-1496-4cd5-96c4-ebbb04a1e906"
      },
      "execution_count": null,
      "outputs": [
        {
          "output_type": "stream",
          "name": "stdout",
          "text": [
            "Here are a few caption options for the image:\n",
            "\n",
            "**Option 1 (Simple & Descriptive):**\n",
            "\n",
            "> Healthy and delicious meal prep!  Chicken and broccoli with rice and carrots.\n",
            "\n",
            "**Option 2 (More Engaging):**\n",
            "\n",
            "> Lunch goals!  These easy-to-make teriyaki chicken and veggie bowls are perfect for a quick and healthy lunch on the go.\n",
            "\n",
            "**Option 3 (Focus on Convenience):**\n",
            "\n",
            "> Meal prepping made easy.  Grab-and-go lunches that are packed with flavor and nutrients.\n",
            "\n",
            "**Option 4 (A bit more playful):**\n",
            "\n",
            "> Goodbye takeout, hello healthy home-cooked meals!  These chicken and veggie bowls are too good to resist.\n",
            "\n",
            "\n",
            "Choose the caption that best suits your intended audience and purpose.\n",
            "\n"
          ]
        }
      ]
    },
    {
      "cell_type": "code",
      "source": [
        "from PIL import Image\n",
        "image_path = \"girl.jpg\"\n",
        "image = Image.open(image_path)\n",
        "response = model.generate_content([\"Describe this image in detail.\", image])\n",
        "print(response.text)"
      ],
      "metadata": {
        "colab": {
          "base_uri": "https://localhost:8080/",
          "height": 211
        },
        "id": "MNZPJfzJg8lL",
        "outputId": "887663a2-9346-4f37-f14d-98d4429437d1"
      },
      "execution_count": null,
      "outputs": [
        {
          "output_type": "stream",
          "name": "stdout",
          "text": [
            "Here's a description of the image:\n",
            "\n",
            "Close-up view of a woman with shoulder-length, curly brown hair. \n",
            "\n",
            "\n",
            "She's wearing a teal or turquoise three-quarter sleeve top with a subtle gold print or pattern that looks like small floral designs. The top has a buttoned neckline. Her arms are crossed, and she is pointing with her index finger of her right hand towards something off-camera, suggesting she's indicating or directing attention to something. \n",
            "\n",
            "\n",
            "Her expression is pleasant and friendly, with a slight smile. She appears to be of South Asian descent. The background is a plain, bright white, which makes the woman and her clothing the clear focal point. The overall lighting is soft and even. The image has a clean, professional feel, possibly a product photo or a portrait for a website or publication.\n",
            "\n"
          ]
        }
      ]
    },
    {
      "cell_type": "code",
      "source": [
        "response = model.generate_content([\"What emotions can you detect in this image?\", image])\n",
        "print(response.text)"
      ],
      "metadata": {
        "colab": {
          "base_uri": "https://localhost:8080/",
          "height": 211
        },
        "id": "4PcXYeRnhrs9",
        "outputId": "3a728fb6-1497-48fa-fc7a-fad724705bc8"
      },
      "execution_count": null,
      "outputs": [
        {
          "output_type": "stream",
          "name": "stdout",
          "text": [
            "The woman in the image displays a combination of emotions, primarily:\n",
            "\n",
            "* **Happiness/Joy:** Her smile is genuine and bright, suggesting a positive emotional state.\n",
            "* **Friendliness/Approachability:**  Her posture and gesture (pointing) are welcoming and inviting, not aggressive or defensive.\n",
            "* **Helpfulness/Guidance:** The pointing gesture directly suggests an intention to help or guide someone.  She seems eager to share information or direct someone's attention.  \n",
            "* **Confidence:** Her posture and direct gaze convey a sense of self-assurance.\n",
            "\n",
            "\n",
            "There's no indication of negative emotions like sadness, anger, or anxiety. The overall impression is one of positive and helpful engagement.\n",
            "\n"
          ]
        }
      ]
    },
    {
      "cell_type": "code",
      "source": [
        "image_path = \"logo1.jpg\"\n",
        "image = Image.open(image_path)\n",
        "response = model.generate_content([\"Identify the brand or company associated with this logo.\", image])\n",
        "print(response.text)"
      ],
      "metadata": {
        "colab": {
          "base_uri": "https://localhost:8080/",
          "height": 52
        },
        "id": "fGHKLgLsjwwn",
        "outputId": "6872a334-c45a-4c47-98cd-8f355c31087d"
      },
      "execution_count": null,
      "outputs": [
        {
          "output_type": "stream",
          "name": "stdout",
          "text": [
            "That's the logo for **Amazon**.\n",
            "\n"
          ]
        }
      ]
    },
    {
      "cell_type": "code",
      "source": [
        "image_path = \"product.jpg\"\n",
        "image = Image.open(image_path)\n",
        "model = genai.GenerativeModel('gemini-1.5-flash')\n",
        "response = model.generate_content([\"What product is shown in this image?\", image])\n",
        "print(response.text)"
      ],
      "metadata": {
        "id": "MCp9G9uUhvOs",
        "colab": {
          "base_uri": "https://localhost:8080/",
          "height": 34
        },
        "outputId": "15c3ac8c-11e1-4a6b-ce49-13d9ff77e610"
      },
      "execution_count": null,
      "outputs": [
        {
          "output_type": "stream",
          "name": "stdout",
          "text": [
            "That's a pair of black over-ear headphones.\n"
          ]
        }
      ]
    },
    {
      "cell_type": "code",
      "source": [
        "response=model.generate_content([\"Suggest similar products to this one.\", image])\n",
        "print(response.text)"
      ],
      "metadata": {
        "colab": {
          "base_uri": "https://localhost:8080/",
          "height": 523
        },
        "id": "aCtATF8APXeb",
        "outputId": "30686b24-ad2e-4732-c2b1-8ac8c6ba8722"
      },
      "execution_count": null,
      "outputs": [
        {
          "output_type": "stream",
          "name": "stdout",
          "text": [
            "Here are some similar product suggestions based on the image of the black over-ear headphones:\n",
            "\n",
            "**Focusing on Style and Features:**\n",
            "\n",
            "* **Other Over-Ear Headphones with Similar Design:** Look for other over-ear headphones with a similar sleek, minimalist design and a padded headband and earcups. Brands like Sony, Bose, Sennheiser, Audio-Technica, and AKG often produce models with this aesthetic.  Search for \"over-ear headphones black minimalist\" or \"over-ear headphones comfortable padded\".\n",
            "\n",
            "* **Noise-Cancelling Headphones (if applicable):** If the pictured headphones have noise-cancellation, specify that in your search.  Many brands offer black over-ear noise-canceling headphones.\n",
            "\n",
            "* **Wireless Headphones (if applicable):** If these are wireless, mention that in your search.  Many brands offer similar-looking wireless over-ear headphones.\n",
            "\n",
            "**Focusing on Price Range:**\n",
            "\n",
            "The image doesn't give a clear indication of the price point.  To refine your search, consider these price ranges:\n",
            "\n",
            "* **Budget-Friendly:** Look for headphones from brands like Anker, Soundcore, or 1More.\n",
            "* **Mid-Range:** Explore options from Sony, JBL, Jabra, or Audio-Technica.\n",
            "* **Premium:** Consider higher-end models from Bose, Sennheiser, or Bowers & Wilkins.\n",
            "\n",
            "\n",
            "**Where to Search:**\n",
            "\n",
            "* **Online Retailers:** Amazon, Best Buy, Walmart, Target, etc.\n",
            "* **Electronics Stores:** Local electronics retailers often carry a variety of headphone options.\n",
            "* **Manufacturer Websites:**  Check the websites of brands mentioned above.\n",
            "\n",
            "\n",
            "To get the most relevant results, use descriptive keywords when searching online. Combine style elements (\"black,\" \"minimalist,\" \"over-ear\"), features (\"noise-canceling,\" \"wireless\"), and brand names to narrow down your options.\n",
            "\n"
          ]
        }
      ]
    },
    {
      "cell_type": "code",
      "source": [
        "image_path=\"invoice.jpg\"\n",
        "image=Image.open(image_path)\n",
        "response=model.generate_content([\"Extract the price from this image.\", image])\n",
        "print(response.text)"
      ],
      "metadata": {
        "colab": {
          "base_uri": "https://localhost:8080/",
          "height": 54
        },
        "id": "YM08Nph1Psmm",
        "outputId": "bf27a90e-6f75-421e-a1a5-66abea935d02"
      },
      "execution_count": null,
      "outputs": [
        {
          "output_type": "stream",
          "name": "stdout",
          "text": [
            "The price of each item is $10.00.  The subtotal is $100.00, with a 10% tax, resulting in a grand total of $100.00.\n"
          ]
        }
      ]
    },
    {
      "cell_type": "code",
      "source": [],
      "metadata": {
        "id": "sLzpYcvMS0XF"
      },
      "execution_count": null,
      "outputs": []
    },
    {
      "cell_type": "code",
      "source": [
        "response = model.generate_content([\"Extract the price, currency, and any discounts from this image.\", image])\n",
        "print(response.text)"
      ],
      "metadata": {
        "colab": {
          "base_uri": "https://localhost:8080/",
          "height": 104
        },
        "id": "FI40Gy_gSZuC",
        "outputId": "f5950edb-05dd-47ec-ec88-e2d98b89cb5b"
      },
      "execution_count": null,
      "outputs": [
        {
          "output_type": "stream",
          "name": "stdout",
          "text": [
            "Here's the extracted information from the image:\n",
            "\n",
            "* **Price:** $10.00 (per item)\n",
            "* **Currency:** USD ($)\n",
            "* **Discounts:** None listed.  There is a 10% tax, but this is not a discount.\n"
          ]
        }
      ]
    },
    {
      "cell_type": "code",
      "source": [
        "image_path=\"bicycle.jpg\"\n",
        "image=Image.open(image_path)\n",
        "response=model.generate_content([\"Identify all objects present in this image.\", image])\n",
        "print(response.text)"
      ],
      "metadata": {
        "colab": {
          "base_uri": "https://localhost:8080/",
          "height": 263
        },
        "id": "AIBF5cNOTNDV",
        "outputId": "c37927d5-cd6b-41c4-e580-64a28b35ebe8"
      },
      "execution_count": null,
      "outputs": [
        {
          "output_type": "stream",
          "name": "stdout",
          "text": [
            "Here's a list of the objects present in the image:\n",
            "\n",
            "* **Two bicycles:** One is predominantly black and yellow, the other is white.\n",
            "* **Two men:**  Riding the bicycles. One is wearing a blue shirt and camouflage shorts; the other is wearing a grey long-sleeved shirt, jeans, and a red cap.\n",
            "* **A man in the background:**  Sitting inside a building, wearing a light-colored shirt.\n",
            "* **A motorcycle:** Parked on the left side of the image.\n",
            "* **A building:**  A light-colored building with a roller shutter door and windows.  It appears to be a shop or business.\n",
            "* **Chairs:** Two visible chairs are inside the building in the background.\n",
            "* **Street:** The bicycles are riding on a wet street.\n",
            "* **Grass/vegetation:** Some grass is visible along the edge of the street.\n",
            "\n",
            "\n",
            "\n"
          ]
        }
      ]
    },
    {
      "cell_type": "code",
      "source": [
        "image=Image.open(\"items.jpg\")\n",
        "response=model.generate_content([\"Identify all objects present in this image.\", image])\n",
        "print(response.text)"
      ],
      "metadata": {
        "colab": {
          "base_uri": "https://localhost:8080/",
          "height": 503
        },
        "id": "gtSQWpyDTboM",
        "outputId": "af97ea5a-349f-42c1-b34f-c69d93e66f24"
      },
      "execution_count": null,
      "outputs": [
        {
          "output_type": "stream",
          "name": "stdout",
          "text": [
            "Here's a list of the objects in the image, categorized for clarity:\n",
            "\n",
            "**Countables (items that can be counted):**\n",
            "\n",
            "* Eggs (3)\n",
            "* Banana (1)\n",
            "* Olives (2)\n",
            "* Fries (a portion)\n",
            "* Burger (1)\n",
            "* Hot dog (1)\n",
            "* Apple (1)\n",
            "* Carrots (2)\n",
            "* Tomatoes (3)\n",
            "* Watermelon (1/2)\n",
            "\n",
            "\n",
            "**Uncountables (items that are typically measured rather than counted):**\n",
            "\n",
            "* Milk (a bottle)\n",
            "* Flour (a bag)\n",
            "* Salt (a pile)\n",
            "* Sugar (a bowl)\n",
            "* Jam (a jar)\n",
            "* Meat (slices)\n",
            "* Rice (a bowl)\n",
            "* Honey (a jar)\n",
            "* Tea (a cup)\n",
            "* Cheese (a slice)\n"
          ]
        }
      ]
    },
    {
      "cell_type": "code",
      "source": [],
      "metadata": {
        "id": "Vi4hc2P-UOvm"
      },
      "execution_count": null,
      "outputs": []
    }
  ]
}