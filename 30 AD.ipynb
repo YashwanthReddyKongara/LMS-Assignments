{
 "cells": [
  {
   "cell_type": "code",
   "execution_count": 6,
   "id": "eb23167e",
   "metadata": {},
   "outputs": [],
   "source": [
    "import io\n",
    "import random\n",
    "import string\n",
    "import warnings\n",
    "warnings.filterwarnings('ignore')\n",
    "import numpy as np\n",
    "from sklearn.feature_extraction.text import TfidfVectorizer\n",
    "from sklearn.metrics.pairwise import cosine_similarity\n",
    "from nltk.stem import WordNetLemmatizer"
   ]
  },
  {
   "cell_type": "code",
   "execution_count": null,
   "id": "62d5c44c",
   "metadata": {},
   "outputs": [],
   "source": []
  },
  {
   "cell_type": "code",
   "execution_count": 10,
   "id": "74e8f07f",
   "metadata": {},
   "outputs": [
    {
     "name": "stderr",
     "output_type": "stream",
     "text": [
      "[nltk_data] Downloading package wordnet to\n",
      "[nltk_data]     C:\\Users\\yashw\\AppData\\Roaming\\nltk_data...\n",
      "[nltk_data]   Package wordnet is already up-to-date!\n"
     ]
    },
    {
     "data": {
      "text/plain": [
       "True"
      ]
     },
     "execution_count": 10,
     "metadata": {},
     "output_type": "execute_result"
    }
   ],
   "source": [
    "import nltk\n",
    "nltk.download('wordnet')\n"
   ]
  },
  {
   "cell_type": "code",
   "execution_count": 13,
   "id": "26c5f645",
   "metadata": {},
   "outputs": [
    {
     "name": "stderr",
     "output_type": "stream",
     "text": [
      "[nltk_data] Downloading package punkt to\n",
      "[nltk_data]     C:\\Users\\yashw\\AppData\\Roaming\\nltk_data...\n",
      "[nltk_data]   Package punkt is already up-to-date!\n"
     ]
    },
    {
     "data": {
      "text/plain": [
       "True"
      ]
     },
     "execution_count": 13,
     "metadata": {},
     "output_type": "execute_result"
    }
   ],
   "source": [
    "\n",
    "nltk.download('punkt')"
   ]
  },
  {
   "cell_type": "code",
   "execution_count": 15,
   "id": "a9a5340c",
   "metadata": {
    "scrolled": true
   },
   "outputs": [
    {
     "name": "stdout",
     "output_type": "stream",
     "text": [
      "Requirement already satisfied: nltk in c:\\users\\yashw\\anaconda3\\lib\\site-packages (3.8.1)\n",
      "Collecting nltk\n",
      "  Obtaining dependency information for nltk from https://files.pythonhosted.org/packages/4d/66/7d9e26593edda06e8cb531874633f7c2372279c3b0f46235539fe546df8b/nltk-3.9.1-py3-none-any.whl.metadata\n",
      "  Downloading nltk-3.9.1-py3-none-any.whl.metadata (2.9 kB)\n",
      "Requirement already satisfied: click in c:\\users\\yashw\\anaconda3\\lib\\site-packages (from nltk) (8.0.4)\n",
      "Requirement already satisfied: joblib in c:\\users\\yashw\\anaconda3\\lib\\site-packages (from nltk) (1.2.0)\n",
      "Requirement already satisfied: regex>=2021.8.3 in c:\\users\\yashw\\anaconda3\\lib\\site-packages (from nltk) (2022.7.9)\n",
      "Requirement already satisfied: tqdm in c:\\users\\yashw\\anaconda3\\lib\\site-packages (from nltk) (4.65.0)\n",
      "Requirement already satisfied: colorama in c:\\users\\yashw\\anaconda3\\lib\\site-packages (from click->nltk) (0.4.6)\n",
      "Downloading nltk-3.9.1-py3-none-any.whl (1.5 MB)\n",
      "   ---------------------------------------- 0.0/1.5 MB ? eta -:--:--\n",
      "   ---------------------------------------- 0.0/1.5 MB ? eta -:--:--\n",
      "   - -------------------------------------- 0.1/1.5 MB 1.1 MB/s eta 0:00:02\n",
      "   ------------ --------------------------- 0.5/1.5 MB 5.0 MB/s eta 0:00:01\n",
      "   ---------------------- ----------------- 0.8/1.5 MB 6.6 MB/s eta 0:00:01\n",
      "   ---------------------------------------  1.5/1.5 MB 8.0 MB/s eta 0:00:01\n",
      "   ---------------------------------------- 1.5/1.5 MB 7.4 MB/s eta 0:00:00\n",
      "Installing collected packages: nltk\n",
      "  Attempting uninstall: nltk\n",
      "    Found existing installation: nltk 3.8.1\n",
      "    Uninstalling nltk-3.8.1:\n",
      "      Successfully uninstalled nltk-3.8.1\n",
      "Successfully installed nltk-3.9.1\n",
      "Note: you may need to restart the kernel to use updated packages.\n"
     ]
    }
   ],
   "source": [
    "pip install --upgrade nltk\n"
   ]
  },
  {
   "cell_type": "code",
   "execution_count": 16,
   "id": "2e5dccdb",
   "metadata": {},
   "outputs": [
    {
     "data": {
      "text/plain": [
       "True"
      ]
     },
     "execution_count": 16,
     "metadata": {},
     "output_type": "execute_result"
    }
   ],
   "source": [
    "nltk.download('popular', quiet=True)"
   ]
  },
  {
   "cell_type": "code",
   "execution_count": 20,
   "id": "f788672b",
   "metadata": {},
   "outputs": [],
   "source": [
    "f=open('input.txt','r',errors='ignore')\n",
    "raw=f.read()\n",
    "raw=raw.lower()\n"
   ]
  },
  {
   "cell_type": "code",
   "execution_count": 21,
   "id": "56c306c0",
   "metadata": {},
   "outputs": [],
   "source": [
    "import nltk\n",
    "sent_tokens=nltk.sent_tokenize(raw)\n",
    "word_tokens=nltk.word_tokenize(raw)"
   ]
  },
  {
   "cell_type": "code",
   "execution_count": 23,
   "id": "b97e56f5",
   "metadata": {},
   "outputs": [
    {
     "name": "stdout",
     "output_type": "stream",
     "text": [
      "['running', 'jumped', 'walking']\n"
     ]
    }
   ],
   "source": [
    "import nltk\n",
    "import string\n",
    "\n",
    "# Initialize the lemmatizer\n",
    "lemmer = nltk.stem.WordNetLemmatizer()\n",
    "\n",
    "# Function to lemmatize tokens\n",
    "def LemTokens(tokens):\n",
    "    return [lemmer.lemmatize(token) for token in tokens]\n",
    "\n",
    "# Dictionary to remove punctuation\n",
    "remove_punct_dict = str.maketrans('', '', string.punctuation)\n",
    "\n",
    "# Function to normalize text\n",
    "def LemNormalized(text):\n",
    "    return LemTokens(nltk.word_tokenize(text.lower().translate(remove_punct_dict)))\n",
    "\n",
    "# Example usage\n",
    "text = \"Running, jumped! Walking?\"\n",
    "print(LemNormalized(text))\n"
   ]
  },
  {
   "cell_type": "code",
   "execution_count": 25,
   "id": "3909aa17",
   "metadata": {},
   "outputs": [],
   "source": [
    "GREETINGS_INPUTS =(\"hello\",\"hi\",\"greetings\",\"sup\",\"what's up\",\"hey\")\n",
    "GREETINGS_RESPONSES = [\"hi\",\"hey\",\"nods\",\"hi there\",\"hello\",\"I am glad! You are talking to me\"]\n",
    "def greetings(sentence):\n",
    "  for word in sentence.split():\n",
    "    if word.lower() in GREETINGS_INPUTS:\n",
    "      return random.choice(GREETINGS_RESPONSES)"
   ]
  },
  {
   "cell_type": "code",
   "execution_count": 26,
   "id": "b1bafc72",
   "metadata": {},
   "outputs": [],
   "source": [
    "def response(user_response):\n",
    "  robo_response = ''\n",
    "  sent_tokens.append(user_response)\n",
    "  TfidfVec = TfidfVectorizer(tokenizer=LemNormalize,stop_words='english')\n",
    "  tfidf = TfidfVec.fit_transform(sent_tokens)\n",
    "  vals = cosine_similarity(tfidf[-1],tfidf)\n",
    "  idx = vals.argsort()[0][-2]\n",
    "  flat = vals.flatten()\n",
    "  flat.sort()\n",
    "  req_tfidf = flat[-2]\n",
    "  if(req_tfidf == 0):\n",
    "    robo_response = robo_response + \"I am sorry! I don't understand you\"\n",
    "    return robo_response\n",
    "  else:\n",
    "    robo_response = robo_response + sent_tokens[idx]\n",
    "    return robo_response"
   ]
  },
  {
   "cell_type": "code",
   "execution_count": 27,
   "id": "34f9bd4f",
   "metadata": {},
   "outputs": [],
   "source": [
    "GREETINGS_INPUTS =(\"hello\",\"hi\",\"greetings\",\"sup\",\"what's up\",\"hey\")\n",
    "GREETINGS_RESPONSES = [\"hi\",\"hey\",\"nods\",\"hi there\",\"hello\",\"I am glad! You are talking to me\"]\n",
    "def greetings(sentence):\n",
    "  for word in sentence.split():\n",
    "    if word.lower() in GREETINGS_INPUTS:\n",
    "      return random.choice(GREETINGS_RESPONSES)"
   ]
  },
  {
   "cell_type": "code",
   "execution_count": 28,
   "id": "f813c48c",
   "metadata": {},
   "outputs": [
    {
     "name": "stdout",
     "output_type": "stream",
     "text": [
      "SABOT: My name is BOT. How can I assist you?. If you want to exit, type Bye!\n",
      "hi\n",
      "SABOT: hi\n",
      "how are you?\n",
      "SABOT: how are you\n",
      "SABOT: Bye\n",
      "SABOT: Bye! take care..\n"
     ]
    }
   ],
   "source": [
    "flag = True\n",
    "print(\"SABOT: My name is BOT. How can I assist you?.\\\n",
    " If you want to exit, type Bye!\")\n",
    "while (flag == True):\n",
    "  user_response = input()\n",
    "  user_response = user_response.lower()\n",
    "  if(user_response != 'bye'):\n",
    "    if(user_response == 'thanks' or user_response == 'thank you'):\n",
    "      flag = False\n",
    "      print(\"SABOT: You are welcome..\")\n",
    "    else:\n",
    "      if(greetings(user_response) != None):\n",
    "        print(\"SABOT: \"+greetings(user_response))\n",
    "      else:\n",
    "        print(\"SABOT: \",end=\"\")\n",
    "  else:\n",
    "    flag = False\n",
    "    print(\"SABOT: Bye! take care..\")"
   ]
  },
  {
   "cell_type": "code",
   "execution_count": null,
   "id": "1ac797e0",
   "metadata": {},
   "outputs": [],
   "source": []
  }
 ],
 "metadata": {
  "kernelspec": {
   "display_name": "Python 3 (ipykernel)",
   "language": "python",
   "name": "python3"
  },
  "language_info": {
   "codemirror_mode": {
    "name": "ipython",
    "version": 3
   },
   "file_extension": ".py",
   "mimetype": "text/x-python",
   "name": "python",
   "nbconvert_exporter": "python",
   "pygments_lexer": "ipython3",
   "version": "3.11.5"
  }
 },
 "nbformat": 4,
 "nbformat_minor": 5
}
