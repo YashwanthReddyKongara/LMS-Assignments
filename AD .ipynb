{
  "nbformat": 4,
  "nbformat_minor": 0,
  "metadata": {
    "colab": {
      "provenance": []
    },
    "kernelspec": {
      "name": "python3",
      "display_name": "Python 3"
    },
    "language_info": {
      "name": "python"
    }
  },
  "cells": [
    {
      "cell_type": "code",
      "source": [
        "# Define a dictionary to store cloud computing concepts and descriptions\n",
        "cloud_concepts = {\n",
        "    \"IaaS\": \"Infrastructure as a Service - provides virtualized computing resources like servers, storage, and networking.\",\n",
        "    \"PaaS\": \"Platform as a Service - offers a platform for developing, running, and managing applications without managing the underlying infrastructure.\",\n",
        "    \"SaaS\": \"Software as a Service - delivers software applications over the internet, eliminating the need for installation and maintenance.\",\n",
        "    \"Serverless Computing\": \"An execution model where the cloud provider dynamically manages the allocation of computing resources.\",\n",
        "    \"Containerization\": \"Packaging software and its dependencies into a standardized unit for easier deployment and portability.\",\n",
        "}\n"
      ],
      "metadata": {
        "id": "pZINvelk-VR9"
      },
      "execution_count": 1,
      "outputs": []
    },
    {
      "cell_type": "code",
      "source": [
        "# Function to print a concept and its description\n",
        "def print_concept(concept):\n",
        "  print(f\"{concept}: {cloud_concepts.get(concept, 'Concept not found')}\")"
      ],
      "metadata": {
        "id": "QBioRy1H-Vti"
      },
      "execution_count": 2,
      "outputs": []
    },
    {
      "cell_type": "code",
      "source": [
        "# Print each concept and its description\n",
        "print_concept(\"IaaS\")\n",
        "print_concept(\"PaaS\")\n",
        "print_concept(\"SaaS\")\n",
        "print_concept(\"Serverless Computing\")\n",
        "print_concept(\"Containerization\")"
      ],
      "metadata": {
        "colab": {
          "base_uri": "https://localhost:8080/"
        },
        "id": "7uNrbqGH-YXT",
        "outputId": "a6821c8a-54bd-45b1-b7e4-02f224f36d04"
      },
      "execution_count": 3,
      "outputs": [
        {
          "output_type": "stream",
          "name": "stdout",
          "text": [
            "IaaS: Infrastructure as a Service - provides virtualized computing resources like servers, storage, and networking.\n",
            "PaaS: Platform as a Service - offers a platform for developing, running, and managing applications without managing the underlying infrastructure.\n",
            "SaaS: Software as a Service - delivers software applications over the internet, eliminating the need for installation and maintenance.\n",
            "Serverless Computing: An execution model where the cloud provider dynamically manages the allocation of computing resources.\n",
            "Containerization: Packaging software and its dependencies into a standardized unit for easier deployment and portability.\n"
          ]
        }
      ]
    },
    {
      "cell_type": "code",
      "source": [
        "# Create a list of cloud providers\n",
        "cloud_providers = [\"AWS\", \"Azure\", \"Google Cloud Platform\"]\n"
      ],
      "metadata": {
        "id": "JN210V_C-ahs"
      },
      "execution_count": 4,
      "outputs": []
    },
    {
      "cell_type": "code",
      "source": [
        "# Print the list of cloud providers\n",
        "print(\"\\nPopular Cloud Providers:\")\n",
        "for provider in cloud_providers:\n",
        "    print(provider)"
      ],
      "metadata": {
        "colab": {
          "base_uri": "https://localhost:8080/"
        },
        "id": "9yymcaEp-eJP",
        "outputId": "2d27c5a4-893a-44ba-d4fa-65da80f600a3"
      },
      "execution_count": 5,
      "outputs": [
        {
          "output_type": "stream",
          "name": "stdout",
          "text": [
            "\n",
            "Popular Cloud Providers:\n",
            "AWS\n",
            "Azure\n",
            "Google Cloud Platform\n"
          ]
        }
      ]
    },
    {
      "cell_type": "code",
      "source": [
        "# Simulate provisioning a virtual machine (VM)\n",
        "print(\"\\nSimulating VM provisioning...\")\n",
        "vm_name = \"my-vm\"\n",
        "vm_size = \"medium\"\n",
        "print(f\"Provisioning VM '{vm_name}' of size '{vm_size}'...\")\n",
        "print(\"VM provisioned successfully.\")\n"
      ],
      "metadata": {
        "colab": {
          "base_uri": "https://localhost:8080/"
        },
        "id": "EEsrAbsp-h56",
        "outputId": "8814972c-893f-436a-d440-f637ebd3c625"
      },
      "execution_count": 6,
      "outputs": [
        {
          "output_type": "stream",
          "name": "stdout",
          "text": [
            "\n",
            "Simulating VM provisioning...\n",
            "Provisioning VM 'my-vm' of size 'medium'...\n",
            "VM provisioned successfully.\n"
          ]
        }
      ]
    },
    {
      "cell_type": "code",
      "source": [
        "# Simulate deploying a containerized application\n",
        "print(\"\\nSimulating container deployment...\")\n",
        "container_name = \"my-app\"\n",
        "print(f\"Deploying container '{container_name}'...\")\n",
        "print(\"Container deployed successfully.\")"
      ],
      "metadata": {
        "colab": {
          "base_uri": "https://localhost:8080/"
        },
        "id": "FBgC1yct-lqZ",
        "outputId": "575b536f-68cf-4508-8b8c-b108de8ad8f0"
      },
      "execution_count": 7,
      "outputs": [
        {
          "output_type": "stream",
          "name": "stdout",
          "text": [
            "\n",
            "Simulating container deployment...\n",
            "Deploying container 'my-app'...\n",
            "Container deployed successfully.\n"
          ]
        }
      ]
    },
    {
      "cell_type": "code",
      "source": [
        "# Simulate storage operation\n",
        "print(\"\\nSimulating data storage...\")\n",
        "data_size = 10\n",
        "print(f\"Storing {data_size}GB of data...\")\n",
        "print(\"Data stored successfully.\")"
      ],
      "metadata": {
        "colab": {
          "base_uri": "https://localhost:8080/"
        },
        "id": "ec_PtSZA-ooa",
        "outputId": "01f0a279-c0d0-483a-bd4d-0d42dfd8faba"
      },
      "execution_count": 8,
      "outputs": [
        {
          "output_type": "stream",
          "name": "stdout",
          "text": [
            "\n",
            "Simulating data storage...\n",
            "Storing 10GB of data...\n",
            "Data stored successfully.\n"
          ]
        }
      ]
    },
    {
      "cell_type": "code",
      "source": [
        "# prompt: create cells cloud computing by performing some operations\n",
        "\n",
        "import uuid\n",
        "\n",
        "\n"
      ],
      "metadata": {
        "id": "OmoxtKXo-rcX"
      },
      "execution_count": 9,
      "outputs": []
    },
    {
      "cell_type": "code",
      "source": [
        "# Replace with your actual project ID\n",
        "PROJECT_ID = \"your-project-id\"\n",
        "\n"
      ],
      "metadata": {
        "id": "aI1JOoaN-zSH"
      },
      "execution_count": 10,
      "outputs": []
    },
    {
      "cell_type": "code",
      "source": [
        "# Generate a unique bucket name (replace with your desired bucket name if needed)\n",
        "BUCKET_NAME = f\"colab-cells-{uuid.uuid4()}\"\n",
        "\n"
      ],
      "metadata": {
        "id": "iP3jIn83-1aq"
      },
      "execution_count": 11,
      "outputs": []
    },
    {
      "cell_type": "code",
      "source": [
        "# Create the bucket (replace with desired region if needed)\n",
        "!gcloud storage buckets create gs://{BUCKET_NAME} --project={PROJECT_ID} --location=US\n",
        "\n"
      ],
      "metadata": {
        "colab": {
          "base_uri": "https://localhost:8080/"
        },
        "id": "l0SZR1aH-22K",
        "outputId": "c64fa16f-d6f2-4b75-85de-c237491d0590"
      },
      "execution_count": 18,
      "outputs": [
        {
          "output_type": "stream",
          "name": "stdout",
          "text": [
            "Creating gs://colab-cells-1e6cca92-197e-4fb4-a375-2a5841a7c4c1/...\n",
            "\u001b[1;31mERROR:\u001b[0m (gcloud.storage.buckets.create) You do not currently have an active account selected.\n",
            "Please run:\n",
            "\n",
            "  $ gcloud auth login\n",
            "\n",
            "to obtain new credentials.\n",
            "\n",
            "If you have already logged in with a different account, run:\n",
            "\n",
            "  $ gcloud config set account ACCOUNT\n",
            "\n",
            "to select an already authenticated account to use.\n"
          ]
        }
      ]
    },
    {
      "cell_type": "code",
      "source": [
        "# Create a dummy file to upload\n",
        "!echo \"Hello, Cloud Storage!\" > /tmp/dummy_file.txt\n",
        "\n"
      ],
      "metadata": {
        "id": "Z-iXmSiX-4Wk"
      },
      "execution_count": 13,
      "outputs": []
    },
    {
      "cell_type": "code",
      "source": [
        "# Upload the file\n",
        "!gsutil cp /tmp/dummy_file.txt gs://{BUCKET_NAME}/dummy_file.txt\n",
        "\n"
      ],
      "metadata": {
        "colab": {
          "base_uri": "https://localhost:8080/"
        },
        "id": "xY5YXOI3-7P6",
        "outputId": "e01756bc-3208-415c-d625-20c839c285c5"
      },
      "execution_count": 14,
      "outputs": [
        {
          "output_type": "stream",
          "name": "stdout",
          "text": [
            "BucketNotFoundException: 404 gs://colab-cells-1e6cca92-197e-4fb4-a375-2a5841a7c4c1 bucket does not exist.\n"
          ]
        }
      ]
    },
    {
      "cell_type": "code",
      "source": [
        "# List the contents of the bucket\n",
        "!gsutil ls -l gs://{BUCKET_NAME}\n",
        "\n",
        "print(f\"Bucket '{BUCKET_NAME}' created successfully in project '{PROJECT_ID}'\")\n",
        "print(f\"Uploaded file: gs://{BUCKET_NAME}/dummy_file.txt\")"
      ],
      "metadata": {
        "colab": {
          "base_uri": "https://localhost:8080/"
        },
        "id": "7IQkO_fH-86v",
        "outputId": "f6d19496-0331-49a7-85c9-5606952ecfb7"
      },
      "execution_count": 15,
      "outputs": [
        {
          "output_type": "stream",
          "name": "stdout",
          "text": [
            "BucketNotFoundException: 404 gs://colab-cells-1e6cca92-197e-4fb4-a375-2a5841a7c4c1 bucket does not exist.\n",
            "Bucket 'colab-cells-1e6cca92-197e-4fb4-a375-2a5841a7c4c1' created successfully in project 'your-project-id'\n",
            "Uploaded file: gs://colab-cells-1e6cca92-197e-4fb4-a375-2a5841a7c4c1/dummy_file.txt\n"
          ]
        }
      ]
    },
    {
      "cell_type": "code",
      "source": [],
      "metadata": {
        "id": "0SU-Lrm7--YN"
      },
      "execution_count": null,
      "outputs": []
    }
  ]
}