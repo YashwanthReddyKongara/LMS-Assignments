{
 "cells": [
  {
   "cell_type": "code",
   "execution_count": 1,
   "id": "df72683f",
   "metadata": {},
   "outputs": [],
   "source": [
    "sent=\"Ram is studying at Malla Reddy University in Hyderabad, India\"\n"
   ]
  },
  {
   "cell_type": "code",
   "execution_count": 2,
   "id": "736b3dc5",
   "metadata": {},
   "outputs": [
    {
     "name": "stderr",
     "output_type": "stream",
     "text": [
      "[nltk_data] Downloading package words to\n",
      "[nltk_data]     C:\\Users\\yashw\\AppData\\Roaming\\nltk_data...\n",
      "[nltk_data]   Package words is already up-to-date!\n"
     ]
    },
    {
     "data": {
      "text/plain": [
       "True"
      ]
     },
     "execution_count": 2,
     "metadata": {},
     "output_type": "execute_result"
    }
   ],
   "source": [
    "import nltk\n",
    "nltk.download('words')"
   ]
  },
  {
   "cell_type": "code",
   "execution_count": 5,
   "id": "222bf2ab",
   "metadata": {},
   "outputs": [
    {
     "name": "stdout",
     "output_type": "stream",
     "text": [
      "Collecting svgling\n",
      "  Obtaining dependency information for svgling from https://files.pythonhosted.org/packages/87/d0/570cbaff44446824b08084c1ce4b47efca0727a5a9bf11c233177ea09b05/svgling-0.5.0-py3-none-any.whl.metadata\n",
      "  Downloading svgling-0.5.0-py3-none-any.whl.metadata (7.4 kB)\n",
      "Collecting svgwrite (from svgling)\n",
      "  Obtaining dependency information for svgwrite from https://files.pythonhosted.org/packages/84/15/640e399579024a6875918839454025bb1d5f850bb70d96a11eabb644d11c/svgwrite-1.4.3-py3-none-any.whl.metadata\n",
      "  Downloading svgwrite-1.4.3-py3-none-any.whl.metadata (8.8 kB)\n",
      "Downloading svgling-0.5.0-py3-none-any.whl (31 kB)\n",
      "Downloading svgwrite-1.4.3-py3-none-any.whl (67 kB)\n",
      "   ---------------------------------------- 0.0/67.1 kB ? eta -:--:--\n",
      "   ------ --------------------------------- 10.2/67.1 kB ? eta -:--:--\n",
      "   ------------------ --------------------- 30.7/67.1 kB 660.6 kB/s eta 0:00:01\n",
      "   ---------------------------------------- 67.1/67.1 kB 729.3 kB/s eta 0:00:00\n",
      "Installing collected packages: svgwrite, svgling\n",
      "Successfully installed svgling-0.5.0 svgwrite-1.4.3\n"
     ]
    }
   ],
   "source": [
    "!pip install svgling"
   ]
  },
  {
   "cell_type": "code",
   "execution_count": 9,
   "id": "edb1d396",
   "metadata": {},
   "outputs": [
    {
     "name": "stderr",
     "output_type": "stream",
     "text": [
      "[nltk_data] Downloading package punkt to\n",
      "[nltk_data]     C:\\Users\\yashw\\AppData\\Roaming\\nltk_data...\n",
      "[nltk_data]   Package punkt is already up-to-date!\n",
      "[nltk_data] Downloading package averaged_perceptron_tagger to\n",
      "[nltk_data]     C:\\Users\\yashw\\AppData\\Roaming\\nltk_data...\n",
      "[nltk_data]   Package averaged_perceptron_tagger is already up-to-\n",
      "[nltk_data]       date!\n",
      "[nltk_data] Downloading package maxent_ne_chunker to\n",
      "[nltk_data]     C:\\Users\\yashw\\AppData\\Roaming\\nltk_data...\n",
      "[nltk_data]   Package maxent_ne_chunker is already up-to-date!\n",
      "[nltk_data] Downloading package words to\n",
      "[nltk_data]     C:\\Users\\yashw\\AppData\\Roaming\\nltk_data...\n",
      "[nltk_data]   Package words is already up-to-date!\n"
     ]
    },
    {
     "data": {
      "text/plain": [
       "True"
      ]
     },
     "execution_count": 9,
     "metadata": {},
     "output_type": "execute_result"
    }
   ],
   "source": [
    "import os\n",
    "import nltk\n",
    "\n",
    "nltk_data_path = os.path.join(os.path.expanduser(\"~\"), \"nltk_data\")\n",
    "if os.path.exists(nltk_data_path):\n",
    "    import shutil\n",
    "    shutil.rmtree(nltk_data_path)\n",
    "\n",
    "nltk.download('punkt')\n",
    "nltk.download('averaged_perceptron_tagger')\n",
    "nltk.download('maxent_ne_chunker')\n",
    "nltk.download('words')\n"
   ]
  },
  {
   "cell_type": "code",
   "execution_count": 12,
   "id": "a207e05a",
   "metadata": {},
   "outputs": [
    {
     "name": "stderr",
     "output_type": "stream",
     "text": [
      "[nltk_data] Downloading package punkt_tab to\n",
      "[nltk_data]     C:\\Users\\yashw\\AppData\\Roaming\\nltk_data...\n",
      "[nltk_data]   Package punkt_tab is already up-to-date!\n",
      "[nltk_data] Downloading package words to\n",
      "[nltk_data]     C:\\Users\\yashw\\AppData\\Roaming\\nltk_data...\n",
      "[nltk_data]   Package words is already up-to-date!\n",
      "[nltk_data] Downloading package maxent_ne_chunker to\n",
      "[nltk_data]     C:\\Users\\yashw\\AppData\\Roaming\\nltk_data...\n",
      "[nltk_data]   Package maxent_ne_chunker is already up-to-date!\n",
      "[nltk_data] Downloading package averaged_perceptron_tagger to\n",
      "[nltk_data]     C:\\Users\\yashw\\AppData\\Roaming\\nltk_data...\n",
      "[nltk_data]   Package averaged_perceptron_tagger is already up-to-\n",
      "[nltk_data]       date!\n"
     ]
    },
    {
     "data": {
      "image/svg+xml": [
       "<svg baseProfile=\"full\" height=\"168px\" preserveAspectRatio=\"xMidYMid meet\" style=\"font-family: times, serif; font-weight: normal; font-style: normal; font-size: 16px\" version=\"1.1\" viewBox=\"0,0,600.0,168.0\" width=\"600px\" xmlns=\"http://www.w3.org/2000/svg\" xmlns:ev=\"http://www.w3.org/2001/xml-events\" xmlns:xlink=\"http://www.w3.org/1999/xlink\"><defs /><svg width=\"100%\" x=\"0\" y=\"0px\"><defs /><text text-anchor=\"middle\" x=\"50%\" y=\"16px\">S</text></svg><svg width=\"6.66667%\" x=\"0%\" y=\"48px\"><defs /><svg width=\"100%\" x=\"0\" y=\"0px\"><defs /><text text-anchor=\"middle\" x=\"50%\" y=\"16px\">GPE</text></svg><svg width=\"100%\" x=\"0%\" y=\"48px\"><defs /><svg width=\"100%\" x=\"0\" y=\"0px\"><defs /><text text-anchor=\"middle\" x=\"50%\" y=\"16px\">Ram</text></svg><svg width=\"100%\" x=\"0%\" y=\"48px\"><defs /><svg width=\"100%\" x=\"0\" y=\"0px\"><defs /><text text-anchor=\"middle\" x=\"50%\" y=\"16px\">NNP</text></svg></svg><line stroke=\"black\" x1=\"50%\" x2=\"50%\" y1=\"20px\" y2=\"48px\" /></svg><line stroke=\"black\" x1=\"50%\" x2=\"50%\" y1=\"20px\" y2=\"48px\" /></svg><line stroke=\"black\" x1=\"50%\" x2=\"3.33333%\" y1=\"20px\" y2=\"48px\" /><svg width=\"6.66667%\" x=\"6.66667%\" y=\"48px\"><defs /><svg width=\"100%\" x=\"0\" y=\"0px\"><defs /><text text-anchor=\"middle\" x=\"50%\" y=\"16px\">is</text></svg><svg width=\"100%\" x=\"0%\" y=\"48px\"><defs /><svg width=\"100%\" x=\"0\" y=\"0px\"><defs /><text text-anchor=\"middle\" x=\"50%\" y=\"16px\">VBZ</text></svg></svg><line stroke=\"black\" x1=\"50%\" x2=\"50%\" y1=\"20px\" y2=\"48px\" /></svg><line stroke=\"black\" x1=\"50%\" x2=\"10%\" y1=\"20px\" y2=\"48px\" /><svg width=\"13.3333%\" x=\"13.3333%\" y=\"48px\"><defs /><svg width=\"100%\" x=\"0\" y=\"0px\"><defs /><text text-anchor=\"middle\" x=\"50%\" y=\"16px\">studying</text></svg><svg width=\"100%\" x=\"0%\" y=\"48px\"><defs /><svg width=\"100%\" x=\"0\" y=\"0px\"><defs /><text text-anchor=\"middle\" x=\"50%\" y=\"16px\">VBG</text></svg></svg><line stroke=\"black\" x1=\"50%\" x2=\"50%\" y1=\"20px\" y2=\"48px\" /></svg><line stroke=\"black\" x1=\"50%\" x2=\"20%\" y1=\"20px\" y2=\"48px\" /><svg width=\"5.33333%\" x=\"26.6667%\" y=\"48px\"><defs /><svg width=\"100%\" x=\"0\" y=\"0px\"><defs /><text text-anchor=\"middle\" x=\"50%\" y=\"16px\">at</text></svg><svg width=\"100%\" x=\"0%\" y=\"48px\"><defs /><svg width=\"100%\" x=\"0\" y=\"0px\"><defs /><text text-anchor=\"middle\" x=\"50%\" y=\"16px\">IN</text></svg></svg><line stroke=\"black\" x1=\"50%\" x2=\"50%\" y1=\"20px\" y2=\"48px\" /></svg><line stroke=\"black\" x1=\"50%\" x2=\"29.3333%\" y1=\"20px\" y2=\"48px\" /><svg width=\"34.6667%\" x=\"32%\" y=\"48px\"><defs /><svg width=\"100%\" x=\"0\" y=\"0px\"><defs /><text text-anchor=\"middle\" x=\"50%\" y=\"16px\">ORGANIZATION</text></svg><svg width=\"26.9231%\" x=\"0%\" y=\"48px\"><defs /><svg width=\"100%\" x=\"0\" y=\"0px\"><defs /><text text-anchor=\"middle\" x=\"50%\" y=\"16px\">Malla</text></svg><svg width=\"100%\" x=\"0%\" y=\"48px\"><defs /><svg width=\"100%\" x=\"0\" y=\"0px\"><defs /><text text-anchor=\"middle\" x=\"50%\" y=\"16px\">NNP</text></svg></svg><line stroke=\"black\" x1=\"50%\" x2=\"50%\" y1=\"20px\" y2=\"48px\" /></svg><line stroke=\"black\" x1=\"50%\" x2=\"13.4615%\" y1=\"20px\" y2=\"48px\" /><svg width=\"26.9231%\" x=\"26.9231%\" y=\"48px\"><defs /><svg width=\"100%\" x=\"0\" y=\"0px\"><defs /><text text-anchor=\"middle\" x=\"50%\" y=\"16px\">Reddy</text></svg><svg width=\"100%\" x=\"0%\" y=\"48px\"><defs /><svg width=\"100%\" x=\"0\" y=\"0px\"><defs /><text text-anchor=\"middle\" x=\"50%\" y=\"16px\">NNP</text></svg></svg><line stroke=\"black\" x1=\"50%\" x2=\"50%\" y1=\"20px\" y2=\"48px\" /></svg><line stroke=\"black\" x1=\"50%\" x2=\"40.3846%\" y1=\"20px\" y2=\"48px\" /><svg width=\"46.1538%\" x=\"53.8462%\" y=\"48px\"><defs /><svg width=\"100%\" x=\"0\" y=\"0px\"><defs /><text text-anchor=\"middle\" x=\"50%\" y=\"16px\">University</text></svg><svg width=\"100%\" x=\"0%\" y=\"48px\"><defs /><svg width=\"100%\" x=\"0\" y=\"0px\"><defs /><text text-anchor=\"middle\" x=\"50%\" y=\"16px\">NNP</text></svg></svg><line stroke=\"black\" x1=\"50%\" x2=\"50%\" y1=\"20px\" y2=\"48px\" /></svg><line stroke=\"black\" x1=\"50%\" x2=\"76.9231%\" y1=\"20px\" y2=\"48px\" /></svg><line stroke=\"black\" x1=\"50%\" x2=\"49.3333%\" y1=\"20px\" y2=\"48px\" /><svg width=\"5.33333%\" x=\"66.6667%\" y=\"48px\"><defs /><svg width=\"100%\" x=\"0\" y=\"0px\"><defs /><text text-anchor=\"middle\" x=\"50%\" y=\"16px\">in</text></svg><svg width=\"100%\" x=\"0%\" y=\"48px\"><defs /><svg width=\"100%\" x=\"0\" y=\"0px\"><defs /><text text-anchor=\"middle\" x=\"50%\" y=\"16px\">IN</text></svg></svg><line stroke=\"black\" x1=\"50%\" x2=\"50%\" y1=\"20px\" y2=\"48px\" /></svg><line stroke=\"black\" x1=\"50%\" x2=\"69.3333%\" y1=\"20px\" y2=\"48px\" /><svg width=\"14.6667%\" x=\"72%\" y=\"48px\"><defs /><svg width=\"100%\" x=\"0\" y=\"0px\"><defs /><text text-anchor=\"middle\" x=\"50%\" y=\"16px\">GPE</text></svg><svg width=\"100%\" x=\"0%\" y=\"48px\"><defs /><svg width=\"100%\" x=\"0\" y=\"0px\"><defs /><text text-anchor=\"middle\" x=\"50%\" y=\"16px\">Hyderabad</text></svg><svg width=\"100%\" x=\"0%\" y=\"48px\"><defs /><svg width=\"100%\" x=\"0\" y=\"0px\"><defs /><text text-anchor=\"middle\" x=\"50%\" y=\"16px\">NNP</text></svg></svg><line stroke=\"black\" x1=\"50%\" x2=\"50%\" y1=\"20px\" y2=\"48px\" /></svg><line stroke=\"black\" x1=\"50%\" x2=\"50%\" y1=\"20px\" y2=\"48px\" /></svg><line stroke=\"black\" x1=\"50%\" x2=\"79.3333%\" y1=\"20px\" y2=\"48px\" /><svg width=\"4%\" x=\"86.6667%\" y=\"48px\"><defs /><svg width=\"100%\" x=\"0\" y=\"0px\"><defs /><text text-anchor=\"middle\" x=\"50%\" y=\"16px\">,</text></svg><svg width=\"100%\" x=\"0%\" y=\"48px\"><defs /><svg width=\"100%\" x=\"0\" y=\"0px\"><defs /><text text-anchor=\"middle\" x=\"50%\" y=\"16px\">,</text></svg></svg><line stroke=\"black\" x1=\"50%\" x2=\"50%\" y1=\"20px\" y2=\"48px\" /></svg><line stroke=\"black\" x1=\"50%\" x2=\"88.6667%\" y1=\"20px\" y2=\"48px\" /><svg width=\"9.33333%\" x=\"90.6667%\" y=\"48px\"><defs /><svg width=\"100%\" x=\"0\" y=\"0px\"><defs /><text text-anchor=\"middle\" x=\"50%\" y=\"16px\">GPE</text></svg><svg width=\"100%\" x=\"0%\" y=\"48px\"><defs /><svg width=\"100%\" x=\"0\" y=\"0px\"><defs /><text text-anchor=\"middle\" x=\"50%\" y=\"16px\">India</text></svg><svg width=\"100%\" x=\"0%\" y=\"48px\"><defs /><svg width=\"100%\" x=\"0\" y=\"0px\"><defs /><text text-anchor=\"middle\" x=\"50%\" y=\"16px\">NNP</text></svg></svg><line stroke=\"black\" x1=\"50%\" x2=\"50%\" y1=\"20px\" y2=\"48px\" /></svg><line stroke=\"black\" x1=\"50%\" x2=\"50%\" y1=\"20px\" y2=\"48px\" /></svg><line stroke=\"black\" x1=\"50%\" x2=\"95.3333%\" y1=\"20px\" y2=\"48px\" /></svg>"
      ],
      "text/plain": [
       "Tree('S', [Tree('GPE', [('Ram', 'NNP')]), ('is', 'VBZ'), ('studying', 'VBG'), ('at', 'IN'), Tree('ORGANIZATION', [('Malla', 'NNP'), ('Reddy', 'NNP'), ('University', 'NNP')]), ('in', 'IN'), Tree('GPE', [('Hyderabad', 'NNP')]), (',', ','), Tree('GPE', [('India', 'NNP')])])"
      ]
     },
     "execution_count": 12,
     "metadata": {},
     "output_type": "execute_result"
    }
   ],
   "source": [
    "import nltk\n",
    "from nltk import ne_chunk, pos_tag, word_tokenize\n",
    "nltk.download('punkt_tab')\n",
    "nltk.download('words') \n",
    "nltk.download('maxent_ne_chunker') \n",
    "nltk.download('averaged_perceptron_tagger') \n",
    "\n",
    "sent = \"Ram is studying at Malla Reddy University in Hyderabad, India\"\n",
    "ne_chunk(nltk.pos_tag(word_tokenize(sent)), binary=False)"
   ]
  },
  {
   "cell_type": "code",
   "execution_count": 11,
   "id": "5aea16c8",
   "metadata": {
    "scrolled": true
   },
   "outputs": [
    {
     "name": "stderr",
     "output_type": "stream",
     "text": [
      "[nltk_data] Downloading package maxent_ne_chunker_tab to\n",
      "[nltk_data]     C:\\Users\\yashw\\AppData\\Roaming\\nltk_data...\n",
      "[nltk_data]   Unzipping chunkers\\maxent_ne_chunker_tab.zip.\n"
     ]
    },
    {
     "data": {
      "text/plain": [
       "True"
      ]
     },
     "execution_count": 11,
     "metadata": {},
     "output_type": "execute_result"
    }
   ],
   "source": [
    "import nltk\n",
    "nltk.download('maxent_ne_chunker_tab')"
   ]
  },
  {
   "cell_type": "code",
   "execution_count": 13,
   "id": "918b481a",
   "metadata": {},
   "outputs": [
    {
     "name": "stdout",
     "output_type": "stream",
     "text": [
      "Requirement already satisfied: spacy in c:\\users\\yashw\\anaconda3\\lib\\site-packages (3.8.4)\n",
      "Requirement already satisfied: spacy-legacy<3.1.0,>=3.0.11 in c:\\users\\yashw\\anaconda3\\lib\\site-packages (from spacy) (3.0.12)\n",
      "Requirement already satisfied: spacy-loggers<2.0.0,>=1.0.0 in c:\\users\\yashw\\anaconda3\\lib\\site-packages (from spacy) (1.0.5)\n",
      "Requirement already satisfied: murmurhash<1.1.0,>=0.28.0 in c:\\users\\yashw\\anaconda3\\lib\\site-packages (from spacy) (1.0.12)\n",
      "Requirement already satisfied: cymem<2.1.0,>=2.0.2 in c:\\users\\yashw\\anaconda3\\lib\\site-packages (from spacy) (2.0.11)\n",
      "Requirement already satisfied: preshed<3.1.0,>=3.0.2 in c:\\users\\yashw\\anaconda3\\lib\\site-packages (from spacy) (3.0.9)\n",
      "Requirement already satisfied: thinc<8.4.0,>=8.3.4 in c:\\users\\yashw\\anaconda3\\lib\\site-packages (from spacy) (8.3.4)\n",
      "Requirement already satisfied: wasabi<1.2.0,>=0.9.1 in c:\\users\\yashw\\anaconda3\\lib\\site-packages (from spacy) (1.1.3)\n",
      "Requirement already satisfied: srsly<3.0.0,>=2.4.3 in c:\\users\\yashw\\anaconda3\\lib\\site-packages (from spacy) (2.5.1)\n",
      "Requirement already satisfied: catalogue<2.1.0,>=2.0.6 in c:\\users\\yashw\\anaconda3\\lib\\site-packages (from spacy) (2.0.10)\n",
      "Requirement already satisfied: weasel<0.5.0,>=0.1.0 in c:\\users\\yashw\\anaconda3\\lib\\site-packages (from spacy) (0.4.1)\n",
      "Requirement already satisfied: typer<1.0.0,>=0.3.0 in c:\\users\\yashw\\anaconda3\\lib\\site-packages (from spacy) (0.15.1)\n",
      "Requirement already satisfied: tqdm<5.0.0,>=4.38.0 in c:\\users\\yashw\\anaconda3\\lib\\site-packages (from spacy) (4.65.0)\n",
      "Requirement already satisfied: numpy>=1.19.0 in c:\\users\\yashw\\anaconda3\\lib\\site-packages (from spacy) (1.24.3)\n",
      "Requirement already satisfied: requests<3.0.0,>=2.13.0 in c:\\users\\yashw\\anaconda3\\lib\\site-packages (from spacy) (2.31.0)\n",
      "Requirement already satisfied: pydantic!=1.8,!=1.8.1,<3.0.0,>=1.7.4 in c:\\users\\yashw\\anaconda3\\lib\\site-packages (from spacy) (1.10.8)\n",
      "Requirement already satisfied: jinja2 in c:\\users\\yashw\\anaconda3\\lib\\site-packages (from spacy) (3.1.2)\n",
      "Requirement already satisfied: setuptools in c:\\users\\yashw\\anaconda3\\lib\\site-packages (from spacy) (68.0.0)\n",
      "Requirement already satisfied: packaging>=20.0 in c:\\users\\yashw\\anaconda3\\lib\\site-packages (from spacy) (23.1)\n",
      "Requirement already satisfied: langcodes<4.0.0,>=3.2.0 in c:\\users\\yashw\\anaconda3\\lib\\site-packages (from spacy) (3.5.0)\n",
      "Requirement already satisfied: language-data>=1.2 in c:\\users\\yashw\\anaconda3\\lib\\site-packages (from langcodes<4.0.0,>=3.2.0->spacy) (1.3.0)\n",
      "Requirement already satisfied: typing-extensions>=4.2.0 in c:\\users\\yashw\\anaconda3\\lib\\site-packages (from pydantic!=1.8,!=1.8.1,<3.0.0,>=1.7.4->spacy) (4.12.2)\n",
      "Requirement already satisfied: charset-normalizer<4,>=2 in c:\\users\\yashw\\anaconda3\\lib\\site-packages (from requests<3.0.0,>=2.13.0->spacy) (2.0.4)\n",
      "Requirement already satisfied: idna<4,>=2.5 in c:\\users\\yashw\\anaconda3\\lib\\site-packages (from requests<3.0.0,>=2.13.0->spacy) (3.4)\n",
      "Requirement already satisfied: urllib3<3,>=1.21.1 in c:\\users\\yashw\\anaconda3\\lib\\site-packages (from requests<3.0.0,>=2.13.0->spacy) (1.26.16)\n",
      "Requirement already satisfied: certifi>=2017.4.17 in c:\\users\\yashw\\anaconda3\\lib\\site-packages (from requests<3.0.0,>=2.13.0->spacy) (2023.7.22)\n",
      "Requirement already satisfied: blis<1.3.0,>=1.2.0 in c:\\users\\yashw\\anaconda3\\lib\\site-packages (from thinc<8.4.0,>=8.3.4->spacy) (1.2.0)\n",
      "Requirement already satisfied: confection<1.0.0,>=0.0.1 in c:\\users\\yashw\\anaconda3\\lib\\site-packages (from thinc<8.4.0,>=8.3.4->spacy) (0.1.5)\n",
      "Requirement already satisfied: colorama in c:\\users\\yashw\\anaconda3\\lib\\site-packages (from tqdm<5.0.0,>=4.38.0->spacy) (0.4.6)\n",
      "Requirement already satisfied: click>=8.0.0 in c:\\users\\yashw\\anaconda3\\lib\\site-packages (from typer<1.0.0,>=0.3.0->spacy) (8.0.4)\n",
      "Requirement already satisfied: shellingham>=1.3.0 in c:\\users\\yashw\\anaconda3\\lib\\site-packages (from typer<1.0.0,>=0.3.0->spacy) (1.5.4)\n",
      "Requirement already satisfied: rich>=10.11.0 in c:\\users\\yashw\\anaconda3\\lib\\site-packages (from typer<1.0.0,>=0.3.0->spacy) (13.8.1)\n",
      "Requirement already satisfied: cloudpathlib<1.0.0,>=0.7.0 in c:\\users\\yashw\\anaconda3\\lib\\site-packages (from weasel<0.5.0,>=0.1.0->spacy) (0.20.0)\n",
      "Requirement already satisfied: smart-open<8.0.0,>=5.2.1 in c:\\users\\yashw\\anaconda3\\lib\\site-packages (from weasel<0.5.0,>=0.1.0->spacy) (5.2.1)\n",
      "Requirement already satisfied: MarkupSafe>=2.0 in c:\\users\\yashw\\anaconda3\\lib\\site-packages (from jinja2->spacy) (2.1.1)\n",
      "Requirement already satisfied: marisa-trie>=1.1.0 in c:\\users\\yashw\\anaconda3\\lib\\site-packages (from language-data>=1.2->langcodes<4.0.0,>=3.2.0->spacy) (1.2.1)\n",
      "Requirement already satisfied: markdown-it-py>=2.2.0 in c:\\users\\yashw\\anaconda3\\lib\\site-packages (from rich>=10.11.0->typer<1.0.0,>=0.3.0->spacy) (2.2.0)\n",
      "Requirement already satisfied: pygments<3.0.0,>=2.13.0 in c:\\users\\yashw\\anaconda3\\lib\\site-packages (from rich>=10.11.0->typer<1.0.0,>=0.3.0->spacy) (2.15.1)\n",
      "Requirement already satisfied: mdurl~=0.1 in c:\\users\\yashw\\anaconda3\\lib\\site-packages (from markdown-it-py>=2.2.0->rich>=10.11.0->typer<1.0.0,>=0.3.0->spacy) (0.1.0)\n"
     ]
    }
   ],
   "source": [
    "!pip install spacy"
   ]
  },
  {
   "cell_type": "code",
   "execution_count": 14,
   "id": "7d165a92",
   "metadata": {},
   "outputs": [
    {
     "name": "stdout",
     "output_type": "stream",
     "text": [
      "Collecting en-core-web-sm==3.8.0\n",
      "  Downloading https://github.com/explosion/spacy-models/releases/download/en_core_web_sm-3.8.0/en_core_web_sm-3.8.0-py3-none-any.whl (12.8 MB)\n",
      "     ---------------------------------------- 0.0/12.8 MB ? eta -:--:--\n",
      "     ---------------------------------------- 0.0/12.8 MB ? eta -:--:--\n",
      "     ---------------------------------------- 0.0/12.8 MB ? eta -:--:--\n",
      "     --------------------------------------- 0.0/12.8 MB 326.8 kB/s eta 0:00:40\n",
      "     --------------------------------------- 0.0/12.8 MB 326.8 kB/s eta 0:00:40\n",
      "     --------------------------------------- 0.1/12.8 MB 383.3 kB/s eta 0:00:34\n",
      "     --------------------------------------- 0.1/12.8 MB 374.1 kB/s eta 0:00:34\n",
      "     --------------------------------------- 0.1/12.8 MB 423.5 kB/s eta 0:00:30\n",
      "     --------------------------------------- 0.1/12.8 MB 448.2 kB/s eta 0:00:29\n",
      "      -------------------------------------- 0.2/12.8 MB 518.8 kB/s eta 0:00:25\n",
      "      -------------------------------------- 0.2/12.8 MB 558.1 kB/s eta 0:00:23\n",
      "      -------------------------------------- 0.3/12.8 MB 567.7 kB/s eta 0:00:23\n",
      "      -------------------------------------- 0.3/12.8 MB 575.5 kB/s eta 0:00:22\n",
      "     - ------------------------------------- 0.3/12.8 MB 599.0 kB/s eta 0:00:21\n",
      "     - ------------------------------------- 0.4/12.8 MB 622.1 kB/s eta 0:00:20\n",
      "     - ------------------------------------- 0.4/12.8 MB 639.0 kB/s eta 0:00:20\n",
      "     - ------------------------------------- 0.5/12.8 MB 670.7 kB/s eta 0:00:19\n",
      "     - ------------------------------------- 0.5/12.8 MB 683.6 kB/s eta 0:00:18\n",
      "     - ------------------------------------- 0.6/12.8 MB 694.9 kB/s eta 0:00:18\n",
      "     - ------------------------------------- 0.6/12.8 MB 692.6 kB/s eta 0:00:18\n",
      "     - ------------------------------------- 0.6/12.8 MB 703.3 kB/s eta 0:00:18\n",
      "     - ------------------------------------- 0.6/12.8 MB 701.1 kB/s eta 0:00:18\n",
      "     -- ------------------------------------ 0.7/12.8 MB 699.4 kB/s eta 0:00:18\n",
      "     -- ------------------------------------ 0.7/12.8 MB 699.4 kB/s eta 0:00:18\n",
      "     -- ------------------------------------ 0.7/12.8 MB 646.0 kB/s eta 0:00:19\n",
      "     -- ------------------------------------ 0.7/12.8 MB 646.3 kB/s eta 0:00:19\n",
      "     -- ------------------------------------ 0.7/12.8 MB 646.2 kB/s eta 0:00:19\n",
      "     -- ------------------------------------ 0.8/12.8 MB 638.4 kB/s eta 0:00:19\n",
      "     -- ------------------------------------ 0.8/12.8 MB 630.8 kB/s eta 0:00:20\n",
      "     -- ------------------------------------ 0.8/12.8 MB 624.4 kB/s eta 0:00:20\n",
      "     -- ------------------------------------ 0.9/12.8 MB 618.1 kB/s eta 0:00:20\n",
      "     -- ------------------------------------ 0.9/12.8 MB 625.7 kB/s eta 0:00:20\n",
      "     -- ------------------------------------ 0.9/12.8 MB 620.2 kB/s eta 0:00:20\n",
      "     -- ------------------------------------ 0.9/12.8 MB 621.2 kB/s eta 0:00:20\n",
      "     -- ------------------------------------ 1.0/12.8 MB 628.8 kB/s eta 0:00:19\n",
      "     --- ----------------------------------- 1.0/12.8 MB 629.6 kB/s eta 0:00:19\n",
      "     --- ----------------------------------- 1.1/12.8 MB 636.9 kB/s eta 0:00:19\n",
      "     --- ----------------------------------- 1.1/12.8 MB 643.4 kB/s eta 0:00:19\n",
      "     --- ----------------------------------- 1.1/12.8 MB 649.5 kB/s eta 0:00:18\n",
      "     --- ----------------------------------- 1.2/12.8 MB 655.5 kB/s eta 0:00:18\n",
      "     --- ----------------------------------- 1.2/12.8 MB 666.6 kB/s eta 0:00:18\n",
      "     --- ----------------------------------- 1.3/12.8 MB 671.7 kB/s eta 0:00:18\n",
      "     ---- ---------------------------------- 1.3/12.8 MB 682.0 kB/s eta 0:00:17\n",
      "     ---- ---------------------------------- 1.4/12.8 MB 686.5 kB/s eta 0:00:17\n",
      "     ---- ---------------------------------- 1.4/12.8 MB 690.8 kB/s eta 0:00:17\n",
      "     ---- ---------------------------------- 1.4/12.8 MB 690.3 kB/s eta 0:00:17\n",
      "     ---- ---------------------------------- 1.4/12.8 MB 690.3 kB/s eta 0:00:17\n",
      "     ---- ---------------------------------- 1.5/12.8 MB 683.9 kB/s eta 0:00:17\n",
      "     ---- ---------------------------------- 1.5/12.8 MB 683.6 kB/s eta 0:00:17\n",
      "     ---- ---------------------------------- 1.5/12.8 MB 683.0 kB/s eta 0:00:17\n",
      "     ---- ---------------------------------- 1.6/12.8 MB 677.6 kB/s eta 0:00:17\n",
      "     ---- ---------------------------------- 1.6/12.8 MB 677.1 kB/s eta 0:00:17\n",
      "     ---- ---------------------------------- 1.6/12.8 MB 681.0 kB/s eta 0:00:17\n",
      "     ----- --------------------------------- 1.7/12.8 MB 680.7 kB/s eta 0:00:17\n",
      "     ----- --------------------------------- 1.7/12.8 MB 684.3 kB/s eta 0:00:17\n",
      "     ----- --------------------------------- 1.8/12.8 MB 687.8 kB/s eta 0:00:17\n",
      "     ----- --------------------------------- 1.8/12.8 MB 691.5 kB/s eta 0:00:16\n",
      "     ----- --------------------------------- 1.8/12.8 MB 698.6 kB/s eta 0:00:16\n",
      "     ----- --------------------------------- 1.9/12.8 MB 701.3 kB/s eta 0:00:16\n",
      "     ----- --------------------------------- 1.9/12.8 MB 704.3 kB/s eta 0:00:16\n",
      "     ------ -------------------------------- 2.0/12.8 MB 710.8 kB/s eta 0:00:16\n",
      "     ------ -------------------------------- 2.0/12.8 MB 724.7 kB/s eta 0:00:15\n",
      "     ------ -------------------------------- 2.1/12.8 MB 723.5 kB/s eta 0:00:15\n",
      "     ------ -------------------------------- 2.1/12.8 MB 732.9 kB/s eta 0:00:15\n",
      "     ------ -------------------------------- 2.2/12.8 MB 738.6 kB/s eta 0:00:15\n",
      "     ------ -------------------------------- 2.3/12.8 MB 750.3 kB/s eta 0:00:15\n",
      "     ------- ------------------------------- 2.3/12.8 MB 759.1 kB/s eta 0:00:14\n",
      "     ------- ------------------------------- 2.4/12.8 MB 774.5 kB/s eta 0:00:14\n",
      "     ------- ------------------------------- 2.5/12.8 MB 782.4 kB/s eta 0:00:14\n",
      "     ------- ------------------------------- 2.5/12.8 MB 787.2 kB/s eta 0:00:14\n",
      "     ------- ------------------------------- 2.6/12.8 MB 801.1 kB/s eta 0:00:13\n",
      "     -------- ------------------------------ 2.7/12.8 MB 808.3 kB/s eta 0:00:13\n",
      "     -------- ------------------------------ 2.7/12.8 MB 821.5 kB/s eta 0:00:13\n",
      "     -------- ------------------------------ 2.8/12.8 MB 830.4 kB/s eta 0:00:13\n",
      "     -------- ------------------------------ 2.9/12.8 MB 846.8 kB/s eta 0:00:12\n",
      "     -------- ------------------------------ 2.9/12.8 MB 851.1 kB/s eta 0:00:12\n",
      "     -------- ------------------------------ 2.9/12.8 MB 851.1 kB/s eta 0:00:12\n",
      "     --------- ----------------------------- 3.0/12.8 MB 842.3 kB/s eta 0:00:12\n",
      "     --------- ----------------------------- 3.0/12.8 MB 843.4 kB/s eta 0:00:12\n",
      "     --------- ----------------------------- 3.1/12.8 MB 857.1 kB/s eta 0:00:12\n",
      "     --------- ----------------------------- 3.2/12.8 MB 860.0 kB/s eta 0:00:12\n",
      "     --------- ----------------------------- 3.3/12.8 MB 865.6 kB/s eta 0:00:12\n",
      "     ---------- ---------------------------- 3.3/12.8 MB 868.4 kB/s eta 0:00:11\n",
      "     ---------- ---------------------------- 3.4/12.8 MB 877.4 kB/s eta 0:00:11\n",
      "     ---------- ---------------------------- 3.4/12.8 MB 876.4 kB/s eta 0:00:11\n",
      "     ---------- ---------------------------- 3.5/12.8 MB 881.7 kB/s eta 0:00:11\n",
      "     ---------- ---------------------------- 3.5/12.8 MB 884.2 kB/s eta 0:00:11\n",
      "     ---------- ---------------------------- 3.6/12.8 MB 884.8 kB/s eta 0:00:11\n",
      "     ----------- --------------------------- 3.6/12.8 MB 883.9 kB/s eta 0:00:11\n",
      "     ----------- --------------------------- 3.6/12.8 MB 881.3 kB/s eta 0:00:11\n",
      "     ----------- --------------------------- 3.7/12.8 MB 884.5 kB/s eta 0:00:11\n",
      "     ----------- --------------------------- 3.7/12.8 MB 882.0 kB/s eta 0:00:11\n",
      "     ----------- --------------------------- 3.7/12.8 MB 879.4 kB/s eta 0:00:11\n",
      "     ----------- --------------------------- 3.8/12.8 MB 878.7 kB/s eta 0:00:11\n",
      "     ----------- --------------------------- 3.8/12.8 MB 877.8 kB/s eta 0:00:11\n",
      "     ----------- --------------------------- 3.9/12.8 MB 876.8 kB/s eta 0:00:11\n",
      "     ----------- --------------------------- 3.9/12.8 MB 871.5 kB/s eta 0:00:11\n",
      "     ----------- --------------------------- 3.9/12.8 MB 873.0 kB/s eta 0:00:11\n",
      "     ------------ -------------------------- 3.9/12.8 MB 867.8 kB/s eta 0:00:11\n",
      "     ------------ -------------------------- 4.0/12.8 MB 867.1 kB/s eta 0:00:11\n",
      "     ------------ -------------------------- 4.0/12.8 MB 868.7 kB/s eta 0:00:11\n",
      "     ------------ -------------------------- 4.0/12.8 MB 863.6 kB/s eta 0:00:11\n",
      "     ------------ -------------------------- 4.1/12.8 MB 861.5 kB/s eta 0:00:11\n",
      "     ------------ -------------------------- 4.1/12.8 MB 856.7 kB/s eta 0:00:11\n",
      "     ------------ -------------------------- 4.1/12.8 MB 858.1 kB/s eta 0:00:11\n",
      "     ------------ -------------------------- 4.2/12.8 MB 854.9 kB/s eta 0:00:11\n",
      "     ------------ -------------------------- 4.2/12.8 MB 854.2 kB/s eta 0:00:11\n",
      "     ------------ -------------------------- 4.2/12.8 MB 849.0 kB/s eta 0:00:11\n",
      "     ------------- ------------------------- 4.3/12.8 MB 852.0 kB/s eta 0:00:11\n",
      "     ------------- ------------------------- 4.3/12.8 MB 852.8 kB/s eta 0:00:10\n",
      "     ------------- ------------------------- 4.4/12.8 MB 852.3 kB/s eta 0:00:10\n",
      "     ------------- ------------------------- 4.4/12.8 MB 848.0 kB/s eta 0:00:10\n",
      "     ------------- ------------------------- 4.4/12.8 MB 849.4 kB/s eta 0:00:10\n",
      "     ------------- ------------------------- 4.4/12.8 MB 845.2 kB/s eta 0:00:10\n",
      "     ------------- ------------------------- 4.5/12.8 MB 843.5 kB/s eta 0:00:10\n",
      "     ------------- ------------------------- 4.5/12.8 MB 846.3 kB/s eta 0:00:10\n",
      "     ------------- ------------------------- 4.5/12.8 MB 841.5 kB/s eta 0:00:10\n",
      "     ------------- ------------------------- 4.6/12.8 MB 844.2 kB/s eta 0:00:10\n",
      "     -------------- ------------------------ 4.6/12.8 MB 842.1 kB/s eta 0:00:10\n",
      "     -------------- ------------------------ 4.7/12.8 MB 844.2 kB/s eta 0:00:10\n",
      "     -------------- ------------------------ 4.7/12.8 MB 846.3 kB/s eta 0:00:10\n",
      "     -------------- ------------------------ 4.8/12.8 MB 848.3 kB/s eta 0:00:10\n",
      "     -------------- ------------------------ 4.8/12.8 MB 850.3 kB/s eta 0:00:10\n",
      "     -------------- ------------------------ 4.9/12.8 MB 850.5 kB/s eta 0:00:10\n",
      "     --------------- ----------------------- 4.9/12.8 MB 856.0 kB/s eta 0:00:10\n",
      "     --------------- ----------------------- 5.0/12.8 MB 858.0 kB/s eta 0:00:10\n",
      "     --------------- ----------------------- 5.0/12.8 MB 860.3 kB/s eta 0:00:10\n",
      "     --------------- ----------------------- 5.1/12.8 MB 863.4 kB/s eta 0:00:09\n",
      "     --------------- ----------------------- 5.2/12.8 MB 867.0 kB/s eta 0:00:09\n",
      "     --------------- ----------------------- 5.2/12.8 MB 872.1 kB/s eta 0:00:09\n",
      "     ---------------- ---------------------- 5.3/12.8 MB 875.5 kB/s eta 0:00:09\n",
      "     ---------------- ---------------------- 5.4/12.8 MB 877.1 kB/s eta 0:00:09\n",
      "     ---------------- ---------------------- 5.4/12.8 MB 878.8 kB/s eta 0:00:09\n",
      "     ---------------- ---------------------- 5.4/12.8 MB 878.8 kB/s eta 0:00:09\n",
      "     ---------------- ---------------------- 5.5/12.8 MB 882.6 kB/s eta 0:00:09\n",
      "     ---------------- ---------------------- 5.6/12.8 MB 885.3 kB/s eta 0:00:09\n",
      "     ----------------- --------------------- 5.6/12.8 MB 885.2 kB/s eta 0:00:09\n",
      "     ----------------- --------------------- 5.7/12.8 MB 889.9 kB/s eta 0:00:09\n",
      "     ----------------- --------------------- 5.7/12.8 MB 892.9 kB/s eta 0:00:08\n",
      "     ----------------- --------------------- 5.8/12.8 MB 894.4 kB/s eta 0:00:08\n",
      "     ----------------- --------------------- 5.9/12.8 MB 897.3 kB/s eta 0:00:08\n",
      "     ------------------ -------------------- 5.9/12.8 MB 902.0 kB/s eta 0:00:08\n",
      "     ------------------ -------------------- 6.0/12.8 MB 904.9 kB/s eta 0:00:08\n",
      "     ------------------ -------------------- 6.0/12.8 MB 906.2 kB/s eta 0:00:08\n",
      "     ------------------ -------------------- 6.1/12.8 MB 909.6 kB/s eta 0:00:08\n",
      "     ------------------ -------------------- 6.2/12.8 MB 910.2 kB/s eta 0:00:08\n",
      "     ------------------ -------------------- 6.2/12.8 MB 911.5 kB/s eta 0:00:08\n",
      "     ------------------- ------------------- 6.3/12.8 MB 912.7 kB/s eta 0:00:08\n",
      "     ------------------- ------------------- 6.3/12.8 MB 913.9 kB/s eta 0:00:08\n",
      "     ------------------- ------------------- 6.3/12.8 MB 915.7 kB/s eta 0:00:08\n",
      "     ------------------- ------------------- 6.4/12.8 MB 919.8 kB/s eta 0:00:07\n",
      "     ------------------- ------------------- 6.5/12.8 MB 921.0 kB/s eta 0:00:07\n",
      "     ------------------- ------------------- 6.5/12.8 MB 923.7 kB/s eta 0:00:07\n",
      "     -------------------- ------------------ 6.6/12.8 MB 926.2 kB/s eta 0:00:07\n",
      "     -------------------- ------------------ 6.7/12.8 MB 929.5 kB/s eta 0:00:07\n",
      "     -------------------- ------------------ 6.7/12.8 MB 933.4 kB/s eta 0:00:07\n",
      "     -------------------- ------------------ 6.8/12.8 MB 937.8 kB/s eta 0:00:07\n",
      "     -------------------- ------------------ 6.9/12.8 MB 941.6 kB/s eta 0:00:07\n",
      "     --------------------- ----------------- 7.0/12.8 MB 946.8 kB/s eta 0:00:07\n",
      "     --------------------- ----------------- 7.0/12.8 MB 949.0 kB/s eta 0:00:07\n",
      "     --------------------- ----------------- 7.1/12.8 MB 949.4 kB/s eta 0:00:07\n",
      "     --------------------- ----------------- 7.1/12.8 MB 952.3 kB/s eta 0:00:06\n",
      "     --------------------- ----------------- 7.2/12.8 MB 953.9 kB/s eta 0:00:06\n",
      "     ---------------------- ---------------- 7.2/12.8 MB 955.4 kB/s eta 0:00:06\n",
      "     ---------------------- ---------------- 7.3/12.8 MB 958.9 kB/s eta 0:00:06\n",
      "     ---------------------- ---------------- 7.4/12.8 MB 961.0 kB/s eta 0:00:06\n",
      "     ---------------------- ---------------- 7.4/12.8 MB 961.8 kB/s eta 0:00:06\n",
      "     ---------------------- ---------------- 7.5/12.8 MB 962.6 kB/s eta 0:00:06\n",
      "     ---------------------- ---------------- 7.5/12.8 MB 963.4 kB/s eta 0:00:06\n",
      "     ----------------------- --------------- 7.6/12.8 MB 962.9 kB/s eta 0:00:06\n",
      "     ----------------------- --------------- 7.6/12.8 MB 963.6 kB/s eta 0:00:06\n",
      "     ----------------------- --------------- 7.7/12.8 MB 964.4 kB/s eta 0:00:06\n",
      "     ----------------------- --------------- 7.7/12.8 MB 965.1 kB/s eta 0:00:06\n",
      "     ----------------------- --------------- 7.8/12.8 MB 967.1 kB/s eta 0:00:06\n",
      "     ----------------------- --------------- 7.8/12.8 MB 967.8 kB/s eta 0:00:06\n",
      "     ------------------------ -------------- 7.9/12.8 MB 969.8 kB/s eta 0:00:06\n",
      "     ------------------------ -------------- 8.0/12.8 MB 970.6 kB/s eta 0:00:05\n",
      "     ------------------------ -------------- 8.0/12.8 MB 970.6 kB/s eta 0:00:05\n",
      "     ------------------------ -------------- 8.0/12.8 MB 971.2 kB/s eta 0:00:05\n",
      "     ------------------------ -------------- 8.1/12.8 MB 970.1 kB/s eta 0:00:05\n",
      "     ------------------------ -------------- 8.1/12.8 MB 970.8 kB/s eta 0:00:05\n",
      "     ------------------------ -------------- 8.2/12.8 MB 970.9 kB/s eta 0:00:05\n",
      "     ------------------------- ------------- 8.2/12.8 MB 969.7 kB/s eta 0:00:05\n",
      "     ------------------------- ------------- 8.3/12.8 MB 968.0 kB/s eta 0:00:05\n",
      "     ------------------------- ------------- 8.3/12.8 MB 966.4 kB/s eta 0:00:05\n",
      "     ------------------------- ------------- 8.3/12.8 MB 964.6 kB/s eta 0:00:05\n",
      "     ------------------------- ------------- 8.3/12.8 MB 964.6 kB/s eta 0:00:05\n",
      "     ------------------------- ------------- 8.3/12.8 MB 958.3 kB/s eta 0:00:05\n",
      "     ------------------------- ------------- 8.4/12.8 MB 955.0 kB/s eta 0:00:05\n",
      "     ------------------------- ------------- 8.4/12.8 MB 955.5 kB/s eta 0:00:05\n",
      "     ------------------------- ------------- 8.4/12.8 MB 951.7 kB/s eta 0:00:05\n",
      "     ------------------------- ------------- 8.4/12.8 MB 949.0 kB/s eta 0:00:05\n",
      "     ------------------------- ------------- 8.4/12.8 MB 946.3 kB/s eta 0:00:05\n",
      "     ------------------------- ------------- 8.5/12.8 MB 941.5 kB/s eta 0:00:05\n",
      "     ------------------------- ------------- 8.5/12.8 MB 939.3 kB/s eta 0:00:05\n",
      "     ------------------------- ------------- 8.5/12.8 MB 936.8 kB/s eta 0:00:05\n",
      "     ------------------------- ------------- 8.5/12.8 MB 935.7 kB/s eta 0:00:05\n",
      "     ------------------------- ------------- 8.5/12.8 MB 932.0 kB/s eta 0:00:05\n",
      "     -------------------------- ------------ 8.6/12.8 MB 929.6 kB/s eta 0:00:05\n",
      "     -------------------------- ------------ 8.6/12.8 MB 927.5 kB/s eta 0:00:05\n",
      "     -------------------------- ------------ 8.6/12.8 MB 921.9 kB/s eta 0:00:05\n",
      "     -------------------------- ------------ 8.6/12.8 MB 919.5 kB/s eta 0:00:05\n",
      "     -------------------------- ------------ 8.6/12.8 MB 915.9 kB/s eta 0:00:05\n",
      "     -------------------------- ------------ 8.6/12.8 MB 914.7 kB/s eta 0:00:05\n",
      "     -------------------------- ------------ 8.7/12.8 MB 913.0 kB/s eta 0:00:05\n",
      "     -------------------------- ------------ 8.7/12.8 MB 911.7 kB/s eta 0:00:05\n",
      "     -------------------------- ------------ 8.7/12.8 MB 910.4 kB/s eta 0:00:05\n",
      "     -------------------------- ------------ 8.8/12.8 MB 909.2 kB/s eta 0:00:05\n",
      "     -------------------------- ------------ 8.8/12.8 MB 909.4 kB/s eta 0:00:05\n",
      "     -------------------------- ------------ 8.8/12.8 MB 909.3 kB/s eta 0:00:05\n",
      "     --------------------------- ----------- 8.9/12.8 MB 907.7 kB/s eta 0:00:05\n",
      "     --------------------------- ----------- 8.9/12.8 MB 909.0 kB/s eta 0:00:05\n",
      "     --------------------------- ----------- 9.0/12.8 MB 908.8 kB/s eta 0:00:05\n",
      "     --------------------------- ----------- 9.0/12.8 MB 909.7 kB/s eta 0:00:05\n",
      "     --------------------------- ----------- 9.1/12.8 MB 908.5 kB/s eta 0:00:05\n",
      "     --------------------------- ----------- 9.1/12.8 MB 909.9 kB/s eta 0:00:05\n",
      "     --------------------------- ----------- 9.1/12.8 MB 908.1 kB/s eta 0:00:05\n",
      "     --------------------------- ----------- 9.2/12.8 MB 907.9 kB/s eta 0:00:04\n",
      "     ---------------------------- ---------- 9.2/12.8 MB 905.4 kB/s eta 0:00:04\n",
      "     ---------------------------- ---------- 9.2/12.8 MB 903.7 kB/s eta 0:00:04\n",
      "     ---------------------------- ---------- 9.3/12.8 MB 902.1 kB/s eta 0:00:04\n",
      "     ---------------------------- ---------- 9.3/12.8 MB 899.7 kB/s eta 0:00:04\n",
      "     ---------------------------- ---------- 9.3/12.8 MB 899.3 kB/s eta 0:00:04\n",
      "     ---------------------------- ---------- 9.3/12.8 MB 897.8 kB/s eta 0:00:04\n",
      "     ---------------------------- ---------- 9.3/12.8 MB 897.5 kB/s eta 0:00:04\n",
      "     ---------------------------- ---------- 9.4/12.8 MB 893.7 kB/s eta 0:00:04\n",
      "     ---------------------------- ---------- 9.4/12.8 MB 894.3 kB/s eta 0:00:04\n",
      "     ---------------------------- ---------- 9.4/12.8 MB 892.0 kB/s eta 0:00:04\n",
      "     ---------------------------- ---------- 9.5/12.8 MB 889.6 kB/s eta 0:00:04\n",
      "     ---------------------------- ---------- 9.5/12.8 MB 888.9 kB/s eta 0:00:04\n",
      "     ---------------------------- ---------- 9.5/12.8 MB 887.9 kB/s eta 0:00:04\n",
      "     ----------------------------- --------- 9.6/12.8 MB 887.4 kB/s eta 0:00:04\n",
      "     ----------------------------- --------- 9.6/12.8 MB 886.5 kB/s eta 0:00:04\n",
      "     ----------------------------- --------- 9.6/12.8 MB 886.1 kB/s eta 0:00:04\n",
      "     ----------------------------- --------- 9.7/12.8 MB 885.1 kB/s eta 0:00:04\n",
      "     ----------------------------- --------- 9.7/12.8 MB 884.4 kB/s eta 0:00:04\n",
      "     ----------------------------- --------- 9.7/12.8 MB 883.4 kB/s eta 0:00:04\n",
      "     ----------------------------- --------- 9.8/12.8 MB 881.3 kB/s eta 0:00:04\n",
      "     ----------------------------- --------- 9.8/12.8 MB 880.3 kB/s eta 0:00:04\n",
      "     ----------------------------- --------- 9.8/12.8 MB 881.4 kB/s eta 0:00:04\n",
      "     ----------------------------- --------- 9.8/12.8 MB 878.7 kB/s eta 0:00:04\n",
      "     ------------------------------ -------- 9.9/12.8 MB 877.8 kB/s eta 0:00:04\n",
      "     ------------------------------ -------- 9.9/12.8 MB 876.5 kB/s eta 0:00:04\n",
      "     ------------------------------ -------- 9.9/12.8 MB 875.0 kB/s eta 0:00:04\n",
      "     ----------------------------- -------- 10.0/12.8 MB 872.9 kB/s eta 0:00:04\n",
      "     ----------------------------- -------- 10.0/12.8 MB 873.5 kB/s eta 0:00:04\n",
      "     ----------------------------- -------- 10.0/12.8 MB 872.6 kB/s eta 0:00:04\n",
      "     ----------------------------- -------- 10.0/12.8 MB 870.5 kB/s eta 0:00:04\n",
      "     ----------------------------- -------- 10.1/12.8 MB 870.6 kB/s eta 0:00:04\n",
      "     ----------------------------- -------- 10.1/12.8 MB 868.5 kB/s eta 0:00:04\n",
      "     ------------------------------ ------- 10.1/12.8 MB 867.1 kB/s eta 0:00:04\n",
      "     ------------------------------ ------- 10.2/12.8 MB 865.9 kB/s eta 0:00:04\n",
      "     ------------------------------ ------- 10.2/12.8 MB 866.3 kB/s eta 0:00:04\n",
      "     ------------------------------ ------- 10.2/12.8 MB 864.3 kB/s eta 0:00:03\n",
      "     ------------------------------ ------- 10.3/12.8 MB 868.3 kB/s eta 0:00:03\n",
      "     ------------------------------ ------- 10.3/12.8 MB 871.7 kB/s eta 0:00:03\n",
      "     ------------------------------ ------- 10.3/12.8 MB 873.0 kB/s eta 0:00:03\n",
      "     ------------------------------ ------- 10.4/12.8 MB 874.1 kB/s eta 0:00:03\n",
      "     ------------------------------ ------- 10.4/12.8 MB 875.3 kB/s eta 0:00:03\n",
      "     ------------------------------ ------- 10.4/12.8 MB 876.4 kB/s eta 0:00:03\n",
      "     ------------------------------- ------ 10.5/12.8 MB 876.4 kB/s eta 0:00:03\n",
      "     ------------------------------- ------ 10.5/12.8 MB 876.5 kB/s eta 0:00:03\n",
      "     ------------------------------- ------ 10.6/12.8 MB 875.3 kB/s eta 0:00:03\n",
      "     ------------------------------- ------ 10.6/12.8 MB 875.3 kB/s eta 0:00:03\n",
      "     ------------------------------- ------ 10.6/12.8 MB 874.1 kB/s eta 0:00:03\n",
      "     ------------------------------- ------ 10.7/12.8 MB 875.3 kB/s eta 0:00:03\n",
      "     ------------------------------- ------ 10.7/12.8 MB 872.9 kB/s eta 0:00:03\n",
      "     ------------------------------- ------ 10.7/12.8 MB 875.3 kB/s eta 0:00:03\n",
      "     ------------------------------- ------ 10.8/12.8 MB 872.9 kB/s eta 0:00:03\n",
      "     -------------------------------- ----- 10.8/12.8 MB 875.2 kB/s eta 0:00:03\n",
      "     -------------------------------- ----- 10.9/12.8 MB 875.3 kB/s eta 0:00:03\n",
      "     -------------------------------- ----- 10.9/12.8 MB 882.3 kB/s eta 0:00:03\n",
      "     -------------------------------- ----- 10.9/12.8 MB 882.4 kB/s eta 0:00:03\n",
      "     -------------------------------- ----- 11.0/12.8 MB 883.6 kB/s eta 0:00:03\n",
      "     -------------------------------- ----- 11.0/12.8 MB 883.5 kB/s eta 0:00:03\n",
      "     -------------------------------- ----- 11.0/12.8 MB 883.6 kB/s eta 0:00:03\n",
      "     -------------------------------- ----- 11.0/12.8 MB 883.6 kB/s eta 0:00:03\n",
      "     -------------------------------- ----- 11.1/12.8 MB 881.1 kB/s eta 0:00:02\n",
      "     -------------------------------- ----- 11.1/12.8 MB 882.4 kB/s eta 0:00:02\n",
      "     -------------------------------- ----- 11.1/12.8 MB 881.2 kB/s eta 0:00:02\n",
      "     -------------------------------- ----- 11.1/12.8 MB 882.3 kB/s eta 0:00:02\n",
      "     --------------------------------- ---- 11.2/12.8 MB 880.0 kB/s eta 0:00:02\n",
      "     --------------------------------- ---- 11.2/12.8 MB 878.8 kB/s eta 0:00:02\n",
      "     --------------------------------- ---- 11.2/12.8 MB 878.8 kB/s eta 0:00:02\n",
      "     --------------------------------- ---- 11.2/12.8 MB 877.6 kB/s eta 0:00:02\n",
      "     --------------------------------- ---- 11.3/12.8 MB 876.4 kB/s eta 0:00:02\n",
      "     --------------------------------- ---- 11.3/12.8 MB 876.4 kB/s eta 0:00:02\n",
      "     --------------------------------- ---- 11.3/12.8 MB 874.0 kB/s eta 0:00:02\n",
      "     --------------------------------- ---- 11.3/12.8 MB 874.1 kB/s eta 0:00:02\n",
      "     --------------------------------- ---- 11.4/12.8 MB 873.0 kB/s eta 0:00:02\n",
      "     --------------------------------- ---- 11.4/12.8 MB 872.9 kB/s eta 0:00:02\n",
      "     --------------------------------- ---- 11.4/12.8 MB 871.8 kB/s eta 0:00:02\n",
      "     ---------------------------------- --- 11.5/12.8 MB 870.6 kB/s eta 0:00:02\n",
      "     ---------------------------------- --- 11.5/12.8 MB 870.6 kB/s eta 0:00:02\n",
      "     ---------------------------------- --- 11.6/12.8 MB 871.8 kB/s eta 0:00:02\n",
      "     ---------------------------------- --- 11.6/12.8 MB 871.8 kB/s eta 0:00:02\n",
      "     ---------------------------------- --- 11.7/12.8 MB 872.9 kB/s eta 0:00:02\n",
      "     ---------------------------------- --- 11.7/12.8 MB 876.4 kB/s eta 0:00:02\n",
      "     ---------------------------------- --- 11.7/12.8 MB 877.6 kB/s eta 0:00:02\n",
      "     ----------------------------------- -- 11.8/12.8 MB 878.8 kB/s eta 0:00:02\n",
      "     ----------------------------------- -- 11.8/12.8 MB 878.8 kB/s eta 0:00:02\n",
      "     ----------------------------------- -- 11.9/12.8 MB 880.0 kB/s eta 0:00:02\n",
      "     ----------------------------------- -- 11.9/12.8 MB 880.0 kB/s eta 0:00:02\n",
      "     ----------------------------------- -- 12.0/12.8 MB 880.0 kB/s eta 0:00:01\n",
      "     ----------------------------------- -- 12.0/12.8 MB 881.2 kB/s eta 0:00:01\n",
      "     ----------------------------------- -- 12.0/12.8 MB 880.0 kB/s eta 0:00:01\n",
      "     ----------------------------------- -- 12.1/12.8 MB 880.0 kB/s eta 0:00:01\n",
      "     ----------------------------------- -- 12.1/12.8 MB 878.8 kB/s eta 0:00:01\n",
      "     ----------------------------------- -- 12.1/12.8 MB 878.8 kB/s eta 0:00:01\n",
      "     ------------------------------------ - 12.2/12.8 MB 876.4 kB/s eta 0:00:01\n",
      "     ------------------------------------ - 12.2/12.8 MB 875.3 kB/s eta 0:00:01\n",
      "     ------------------------------------ - 12.2/12.8 MB 873.0 kB/s eta 0:00:01\n",
      "     ------------------------------------ - 12.2/12.8 MB 869.4 kB/s eta 0:00:01\n",
      "     ------------------------------------ - 12.3/12.8 MB 868.3 kB/s eta 0:00:01\n",
      "     ------------------------------------ - 12.3/12.8 MB 868.3 kB/s eta 0:00:01\n",
      "     ------------------------------------ - 12.3/12.8 MB 867.1 kB/s eta 0:00:01\n",
      "     ------------------------------------ - 12.4/12.8 MB 866.0 kB/s eta 0:00:01\n",
      "     ------------------------------------ - 12.4/12.8 MB 863.7 kB/s eta 0:00:01\n",
      "     ------------------------------------ - 12.4/12.8 MB 863.8 kB/s eta 0:00:01\n",
      "     -------------------------------------  12.5/12.8 MB 862.6 kB/s eta 0:00:01\n",
      "     -------------------------------------  12.5/12.8 MB 860.3 kB/s eta 0:00:01\n",
      "     -------------------------------------  12.5/12.8 MB 860.4 kB/s eta 0:00:01\n",
      "     -------------------------------------  12.6/12.8 MB 858.1 kB/s eta 0:00:01\n",
      "     -------------------------------------  12.6/12.8 MB 853.5 kB/s eta 0:00:01\n",
      "     -------------------------------------  12.6/12.8 MB 851.4 kB/s eta 0:00:01\n",
      "     -------------------------------------  12.6/12.8 MB 849.2 kB/s eta 0:00:01\n",
      "     -------------------------------------  12.7/12.8 MB 849.2 kB/s eta 0:00:01\n",
      "     -------------------------------------  12.7/12.8 MB 848.1 kB/s eta 0:00:01\n",
      "     -------------------------------------  12.8/12.8 MB 845.9 kB/s eta 0:00:01\n",
      "     -------------------------------------  12.8/12.8 MB 843.7 kB/s eta 0:00:01\n",
      "     -------------------------------------  12.8/12.8 MB 842.6 kB/s eta 0:00:01\n",
      "     -------------------------------------  12.8/12.8 MB 842.6 kB/s eta 0:00:01\n",
      "     -------------------------------------- 12.8/12.8 MB 836.9 kB/s eta 0:00:00\n",
      "\u001b[38;5;2m[+] Download and installation successful\u001b[0m\n",
      "You can now load the package via spacy.load('en_core_web_sm')\n"
     ]
    }
   ],
   "source": [
    "!python -m spacy download en_core_web_sm"
   ]
  },
  {
   "cell_type": "code",
   "execution_count": 15,
   "id": "5f6190a9",
   "metadata": {},
   "outputs": [
    {
     "name": "stdout",
     "output_type": "stream",
     "text": [
      "Apple 0 5 ORG\n",
      "10000 42 47 MONEY\n",
      "New york 51 59 GPE\n"
     ]
    }
   ],
   "source": [
    "import spacy \n",
    "nlp=spacy.load('en_core_web_sm')\n",
    "doc=nlp(u'Apple is ready to launch new phone worth $10000 in New york time square')\n",
    "for ent in doc.ents:\n",
    "    print(ent.text, ent.start_char, ent.end_char, ent.label_)"
   ]
  },
  {
   "cell_type": "code",
   "execution_count": 16,
   "id": "2e0efc70",
   "metadata": {},
   "outputs": [],
   "source": [
    "import spacy\n",
    "nlp=spacy.load(\"en_core_web_sm\")"
   ]
  },
  {
   "cell_type": "code",
   "execution_count": 17,
   "id": "b8f13640",
   "metadata": {},
   "outputs": [],
   "source": [
    "text = \"\"\"\n",
    "Elon Musk, the CEO of SpaceX and Tesla, announced that SpaceX's Starship will be launching its first crewed mission to Mars in 2027.\n",
    "The mission, which will involve astronauts from NASA, will be the first of its kind, and it will take place at the Kennedy Space Center in Florida.\n",
    "Musk emphasized that the project would push the boundaries of space exploration.\n",
    "\"\"\"\n"
   ]
  },
  {
   "cell_type": "code",
   "execution_count": 18,
   "id": "bd30d039",
   "metadata": {},
   "outputs": [
    {
     "name": "stdout",
     "output_type": "stream",
     "text": [
      "Entity:Elon Musk,label_\n",
      "Entity:Tesla,label_\n",
      "Entity:SpaceX,label_\n",
      "Entity:Starship,label_\n",
      "Entity:first,label_\n",
      "Entity:Mars,label_\n",
      "Entity:2027,label_\n",
      "Entity:NASA,label_\n",
      "Entity:first,label_\n",
      "Entity:the Kennedy Space Center,label_\n",
      "Entity:Florida,label_\n"
     ]
    }
   ],
   "source": [
    "doc=nlp(text)\n",
    "for ent in doc.ents:\n",
    "    print(f\"Entity:{ent.text},label_\")"
   ]
  },
  {
   "cell_type": "code",
   "execution_count": 19,
   "id": "ef46a4e1",
   "metadata": {},
   "outputs": [
    {
     "data": {
      "text/html": [
       "<span class=\"tex2jax_ignore\"><div class=\"entities\" style=\"line-height: 2.5; direction: ltr\"><br>\n",
       "<mark class=\"entity\" style=\"background: #aa9cfc; padding: 0.45em 0.6em; margin: 0 0.25em; line-height: 1; border-radius: 0.35em;\">\n",
       "    Elon Musk\n",
       "    <span style=\"font-size: 0.8em; font-weight: bold; line-height: 1; border-radius: 0.35em; vertical-align: middle; margin-left: 0.5rem\">PERSON</span>\n",
       "</mark>\n",
       ", the CEO of SpaceX and \n",
       "<mark class=\"entity\" style=\"background: #7aecec; padding: 0.45em 0.6em; margin: 0 0.25em; line-height: 1; border-radius: 0.35em;\">\n",
       "    Tesla\n",
       "    <span style=\"font-size: 0.8em; font-weight: bold; line-height: 1; border-radius: 0.35em; vertical-align: middle; margin-left: 0.5rem\">ORG</span>\n",
       "</mark>\n",
       ", announced that \n",
       "<mark class=\"entity\" style=\"background: #aa9cfc; padding: 0.45em 0.6em; margin: 0 0.25em; line-height: 1; border-radius: 0.35em;\">\n",
       "    SpaceX\n",
       "    <span style=\"font-size: 0.8em; font-weight: bold; line-height: 1; border-radius: 0.35em; vertical-align: middle; margin-left: 0.5rem\">PERSON</span>\n",
       "</mark>\n",
       "'s \n",
       "<mark class=\"entity\" style=\"background: #bfeeb7; padding: 0.45em 0.6em; margin: 0 0.25em; line-height: 1; border-radius: 0.35em;\">\n",
       "    Starship\n",
       "    <span style=\"font-size: 0.8em; font-weight: bold; line-height: 1; border-radius: 0.35em; vertical-align: middle; margin-left: 0.5rem\">PRODUCT</span>\n",
       "</mark>\n",
       " will be launching its \n",
       "<mark class=\"entity\" style=\"background: #e4e7d2; padding: 0.45em 0.6em; margin: 0 0.25em; line-height: 1; border-radius: 0.35em;\">\n",
       "    first\n",
       "    <span style=\"font-size: 0.8em; font-weight: bold; line-height: 1; border-radius: 0.35em; vertical-align: middle; margin-left: 0.5rem\">ORDINAL</span>\n",
       "</mark>\n",
       " crewed mission to \n",
       "<mark class=\"entity\" style=\"background: #ff9561; padding: 0.45em 0.6em; margin: 0 0.25em; line-height: 1; border-radius: 0.35em;\">\n",
       "    Mars\n",
       "    <span style=\"font-size: 0.8em; font-weight: bold; line-height: 1; border-radius: 0.35em; vertical-align: middle; margin-left: 0.5rem\">LOC</span>\n",
       "</mark>\n",
       " in \n",
       "<mark class=\"entity\" style=\"background: #bfe1d9; padding: 0.45em 0.6em; margin: 0 0.25em; line-height: 1; border-radius: 0.35em;\">\n",
       "    2027\n",
       "    <span style=\"font-size: 0.8em; font-weight: bold; line-height: 1; border-radius: 0.35em; vertical-align: middle; margin-left: 0.5rem\">DATE</span>\n",
       "</mark>\n",
       ".<br>The mission, which will involve astronauts from \n",
       "<mark class=\"entity\" style=\"background: #7aecec; padding: 0.45em 0.6em; margin: 0 0.25em; line-height: 1; border-radius: 0.35em;\">\n",
       "    NASA\n",
       "    <span style=\"font-size: 0.8em; font-weight: bold; line-height: 1; border-radius: 0.35em; vertical-align: middle; margin-left: 0.5rem\">ORG</span>\n",
       "</mark>\n",
       ", will be the \n",
       "<mark class=\"entity\" style=\"background: #e4e7d2; padding: 0.45em 0.6em; margin: 0 0.25em; line-height: 1; border-radius: 0.35em;\">\n",
       "    first\n",
       "    <span style=\"font-size: 0.8em; font-weight: bold; line-height: 1; border-radius: 0.35em; vertical-align: middle; margin-left: 0.5rem\">ORDINAL</span>\n",
       "</mark>\n",
       " of its kind, and it will take place at \n",
       "<mark class=\"entity\" style=\"background: #9cc9cc; padding: 0.45em 0.6em; margin: 0 0.25em; line-height: 1; border-radius: 0.35em;\">\n",
       "    the Kennedy Space Center\n",
       "    <span style=\"font-size: 0.8em; font-weight: bold; line-height: 1; border-radius: 0.35em; vertical-align: middle; margin-left: 0.5rem\">FAC</span>\n",
       "</mark>\n",
       " in \n",
       "<mark class=\"entity\" style=\"background: #feca74; padding: 0.45em 0.6em; margin: 0 0.25em; line-height: 1; border-radius: 0.35em;\">\n",
       "    Florida\n",
       "    <span style=\"font-size: 0.8em; font-weight: bold; line-height: 1; border-radius: 0.35em; vertical-align: middle; margin-left: 0.5rem\">GPE</span>\n",
       "</mark>\n",
       ".<br>Musk emphasized that the project would push the boundaries of space exploration.<br></div></span>"
      ],
      "text/plain": [
       "<IPython.core.display.HTML object>"
      ]
     },
     "metadata": {},
     "output_type": "display_data"
    }
   ],
   "source": [
    "from spacy import displacy\n",
    "displacy.render(doc, style=\"ent\")"
   ]
  },
  {
   "cell_type": "code",
   "execution_count": 20,
   "id": "aa4d72c7",
   "metadata": {},
   "outputs": [
    {
     "name": "stdout",
     "output_type": "stream",
     "text": [
      "                        text     type                     lemma\n",
      "0                  Elon Musk   PERSON                 Elon Musk\n",
      "1                      Tesla      ORG                     Tesla\n",
      "2                     SpaceX   PERSON                    SpaceX\n",
      "3                   Starship  PRODUCT                  Starship\n",
      "4                      first  ORDINAL                     first\n",
      "5                       Mars      LOC                      Mars\n",
      "6                       2027     DATE                      2027\n",
      "7                       NASA      ORG                      NASA\n",
      "8                      first  ORDINAL                     first\n",
      "9   the Kennedy Space Center      FAC  the Kennedy Space Center\n",
      "10                   Florida      GPE                   Florida\n"
     ]
    }
   ],
   "source": [
    "import pandas as pd\n",
    "entities=[(ent.text,ent.label_,ent.lemma_) for ent in doc.ents]\n",
    "df=pd.DataFrame(entities, columns=['text','type','lemma'])\n",
    "print(df)"
   ]
  },
  {
   "cell_type": "code",
   "execution_count": null,
   "id": "0b0221b3",
   "metadata": {},
   "outputs": [],
   "source": []
  }
 ],
 "metadata": {
  "kernelspec": {
   "display_name": "Python 3 (ipykernel)",
   "language": "python",
   "name": "python3"
  },
  "language_info": {
   "codemirror_mode": {
    "name": "ipython",
    "version": 3
   },
   "file_extension": ".py",
   "mimetype": "text/x-python",
   "name": "python",
   "nbconvert_exporter": "python",
   "pygments_lexer": "ipython3",
   "version": "3.11.5"
  }
 },
 "nbformat": 4,
 "nbformat_minor": 5
}
