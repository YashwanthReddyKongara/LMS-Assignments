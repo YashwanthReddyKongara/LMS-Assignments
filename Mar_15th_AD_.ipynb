{
  "nbformat": 4,
  "nbformat_minor": 0,
  "metadata": {
    "colab": {
      "provenance": [],
      "gpuType": "T4",
      "authorship_tag": "ABX9TyN7pYT7dZ5JkoweTXFVu8S4",
      "include_colab_link": true
    },
    "kernelspec": {
      "name": "python3",
      "display_name": "Python 3"
    },
    "language_info": {
      "name": "python"
    },
    "accelerator": "GPU"
  },
  "cells": [
    {
      "cell_type": "markdown",
      "metadata": {
        "id": "view-in-github",
        "colab_type": "text"
      },
      "source": [
        "<a href=\"https://colab.research.google.com/github/YashwanthReddyKongara/LMS-Assignments/blob/main/Mar_15th_AD_.ipynb\" target=\"_parent\"><img src=\"https://colab.research.google.com/assets/colab-badge.svg\" alt=\"Open In Colab\"/></a>"
      ]
    },
    {
      "cell_type": "code",
      "execution_count": 4,
      "metadata": {
        "id": "_I_fau2SN9Fx"
      },
      "outputs": [],
      "source": [
        "import google.generativeai as genai\n",
        "from google.colab import userdata\n",
        "GOOGLE_API_KEY=userdata.get('GOOGLE_API_KEY')\n",
        "genai.configure(api_key=GOOGLE_API_KEY)\n"
      ]
    },
    {
      "cell_type": "code",
      "source": [
        "pip install PyPDF2"
      ],
      "metadata": {
        "colab": {
          "base_uri": "https://localhost:8080/"
        },
        "id": "kfb_3MCqOVIl",
        "outputId": "9e6b56f4-dfd9-476d-b94b-9fdacfdeda0a"
      },
      "execution_count": 5,
      "outputs": [
        {
          "output_type": "stream",
          "name": "stdout",
          "text": [
            "Collecting PyPDF2\n",
            "  Downloading pypdf2-3.0.1-py3-none-any.whl.metadata (6.8 kB)\n",
            "Downloading pypdf2-3.0.1-py3-none-any.whl (232 kB)\n",
            "\u001b[?25l   \u001b[90m━━━━━━━━━━━━━━━━━━━━━━━━━━━━━━━━━━━━━━━━\u001b[0m \u001b[32m0.0/232.6 kB\u001b[0m \u001b[31m?\u001b[0m eta \u001b[36m-:--:--\u001b[0m\r\u001b[2K   \u001b[91m━━━━━━━━━━━━━━━━━━━━━━━━━━━━━━━━━━━━━━\u001b[0m\u001b[91m╸\u001b[0m\u001b[90m━\u001b[0m \u001b[32m225.3/232.6 kB\u001b[0m \u001b[31m8.6 MB/s\u001b[0m eta \u001b[36m0:00:01\u001b[0m\r\u001b[2K   \u001b[90m━━━━━━━━━━━━━━━━━━━━━━━━━━━━━━━━━━━━━━━━\u001b[0m \u001b[32m232.6/232.6 kB\u001b[0m \u001b[31m6.2 MB/s\u001b[0m eta \u001b[36m0:00:00\u001b[0m\n",
            "\u001b[?25hInstalling collected packages: PyPDF2\n",
            "Successfully installed PyPDF2-3.0.1\n"
          ]
        }
      ]
    },
    {
      "cell_type": "code",
      "source": [
        "import PyPDF2\n",
        "def extract_text_from_pdf(pdf_path):\n",
        "    text = \"\"\n",
        "    with open(pdf_path, 'rb') as file:\n",
        "        reader = PyPDF2.PdfReader(file)\n",
        "        for page in reader.pages:\n",
        "          text+=page.extract_text() +\"\\n\"\n",
        "    return text"
      ],
      "metadata": {
        "id": "W8TkPexnOuOa"
      },
      "execution_count": 6,
      "outputs": []
    },
    {
      "cell_type": "code",
      "source": [
        "def extract_health_insights(text):\n",
        "  model=genai.GenerativeModel(\"gemini-1.5-flash\")\n",
        "  prompt=f\"Extract key insights from the following helth report:\\n\\n{text}\"\n",
        "  response=model.generate_content(prompt)\n",
        "  return response.text\n",
        "\n",
        "pdf_file=\"health_report.pdf\"\n",
        "extracted_text=extract_text_from_pdf(pdf_file)\n",
        "insights=extract_health_insights(extracted_text)\n",
        "print(\"Key Insights:\\n\",insights)"
      ],
      "metadata": {
        "colab": {
          "base_uri": "https://localhost:8080/",
          "height": 471
        },
        "id": "Y_OAkH7qPiNh",
        "outputId": "94bb3f0d-1012-45b5-de5d-97ef5857cb3b"
      },
      "execution_count": 8,
      "outputs": [
        {
          "output_type": "stream",
          "name": "stdout",
          "text": [
            "Key Insights:\n",
            " The health report for Mr. Kishan Goud (MR2100003157) reveals the following key insights:\n",
            "\n",
            "**Infectious Diseases:**\n",
            "\n",
            "* **Negative for Dengue:**  Tests for Dengue NS1 antigen, IgG, and IgM antibodies were all negative.\n",
            "* **Negative for Malaria:** Rapid Malaria tests for Plasmodium vivax (P.V) and Plasmodium falciparum (P.F) were both negative.\n",
            "* **Widal Test Results:**  While the Widal test showed elevated titers for *Salmonella Typhi* \"O\" (1:160) and \"H\" (1:80), and *Salmonella Paratyphi* \"AH\" and \"BH\" (1:20),  interpretation requires clinical correlation.  The reference range is 1:20, so only *Salmonella Typhi* O shows significantly elevated levels.  This suggests possible past or present typhoid infection, but further investigation and clinical assessment are necessary to confirm.\n",
            "\n",
            "**Hematology:**\n",
            "\n",
            "* **Elevated ESR:**  The Erythrocyte Sedimentation Rate (ESR) is elevated (26 mm/hr in the first hour, 52 mm/hr in the second), indicating possible inflammation or infection.\n",
            "* **Complete Blood Count (CBC):**  Most CBC parameters are within normal ranges, including hemoglobin, RBC, WBC, platelets, and PCV.  Differential count shows normal neutrophil and lymphocyte percentages.\n",
            "* **Normocytic Normochromic RBCs:** Red blood cells appear normal in size and color.\n",
            "\n",
            "**Biochemistry:**\n",
            "\n",
            "* **Slightly Low Serum Sodium:** Serum sodium (122 mmol/l) is slightly below the lower limit of the reference range (135-146 mmol/l).  This could indicate a mild electrolyte imbalance.  Requires further investigation and consideration of clinical context.\n",
            "* **Other Biochemistry Tests:**  Liver function tests (bilirubin, alkaline phosphatase, SGOT, SGPT, total protein, albumin), serum creatinine,  random blood glucose, and serum potassium and chloride are all within the normal range.\n",
            "* **HbA1c:**  The HbA1c level (5.4%) falls within the normal range for a non-diabetic individual, indicating good blood sugar control.\n",
            "\n",
            "**Overall:**\n",
            "\n",
            "The report shows some abnormalities, mainly the elevated ESR and slightly low serum sodium, and the significantly elevated Widal test for *Salmonella Typhi* \"O\". The other test results fall within normal ranges.  The raised ESR and the positive Widal (Typhi O) may suggest an ongoing inflammatory process, possibly linked to typhoid fever. However, the negative Dengue and Malaria tests rule out those infections.  Clinical correlation with the patient's symptoms and other diagnostic findings is essential for a proper diagnosis and treatment plan. The slightly low serum sodium requires further evaluation to determine its significance.\n",
            "\n"
          ]
        }
      ]
    },
    {
      "cell_type": "code",
      "source": [
        "def summarize_health_report(text):\n",
        "  model=genai.GenerativeModel(\"gemini-1.5-flash\")\n",
        "  prompt=f\"Summarize the following health report in a concise manner:\\n\\n{text}\"\n",
        "  response=model.generate_content(prompt)\n",
        "  return response.text\n",
        "summary=summarize_health_report(extracted_text)\n",
        "print(\"Summary:\\n\",summary)"
      ],
      "metadata": {
        "colab": {
          "base_uri": "https://localhost:8080/",
          "height": 89
        },
        "id": "KOW2u255SexF",
        "outputId": "7243ee20-1c50-4a3f-a0db-e46f0d2159ef"
      },
      "execution_count": 9,
      "outputs": [
        {
          "output_type": "stream",
          "name": "stdout",
          "text": [
            "Summary:\n",
            " Mr. Kishan Goud's (MR2100003157) blood tests on 01/02/2021 showed:  Elevated ESR (26/52 mm/hr), otherwise normal complete blood count (CBC),  negative results for typhoid, dengue, and malaria.  Liver function tests were within normal limits, except for slightly low serum sodium (122 mmol/l).  His HbA1c was 5.4%, within the normal non-diabetic range, and random blood glucose was unreported.  Creatinine was 0.8 mg/dl (within normal range).\n",
            "\n"
          ]
        }
      ]
    },
    {
      "cell_type": "code",
      "source": [
        "def detect_abnormalities(text):\n",
        "  model=genai.GenerativeModel(\"gemini-1.5-flash\")\n",
        "  prompt=f\"Analyze the lab test results in the following health and highlight any abnormal values:\\n\\n{text}\"\n",
        "  response=model.generate_content(prompt)\n",
        "  return response.text\n",
        "abnormalities=detect_abnormalities(extracted_text)\n",
        "print(\"Summary:\\n\",abnormalities)"
      ],
      "metadata": {
        "colab": {
          "base_uri": "https://localhost:8080/",
          "height": 384
        },
        "id": "jJvcEVN-Tq0F",
        "outputId": "f19abf29-d3ed-4e13-d40d-c6efefd00907"
      },
      "execution_count": 10,
      "outputs": [
        {
          "output_type": "stream",
          "name": "stdout",
          "text": [
            "Summary:\n",
            " Several abnormal values are present in Mr. Kishan Goud's lab results:\n",
            "\n",
            "* **Widal Test:**  Both S. Typhi \"O\" (1:160) and S. Typhi \"H\" (1:80) titers are significantly elevated above the reference range of 1:20.  This strongly suggests a past or present infection with *Salmonella Typhi*, the bacteria that causes typhoid fever.  Further investigation and clinical correlation are needed to confirm an active infection.\n",
            "\n",
            "* **ESR (Erythrocyte Sedimentation Rate):** Both the 1st hour (26 mm/hr) and 2nd hour (52 mm/hr) values are markedly elevated above the reference range (0-8 mm/hr).  Elevated ESR indicates inflammation in the body.  This could be related to the suspected typhoid infection or another underlying condition.\n",
            "\n",
            "* **Serum Sodium:** The serum sodium level (122 mmol/l) is below the reference range (135-146 mmol/l), indicating hyponatremia (low sodium in the blood).  This needs further evaluation to determine the cause.  This is a potentially serious finding.\n",
            "\n",
            "* **Serum Chloride:** The serum chloride level (97 mmol/l) is slightly below the reference range (98-107 mmol/l). While not severely low, it's worth considering in conjunction with the hyponatremia.\n",
            "\n",
            "\n",
            "**Values within or close to normal limits but warranting attention:**\n",
            "\n",
            "* **Lymphocytes:** While within the reference range (31%), the lymphocyte count is on the higher end, which could be a response to infection.\n",
            "\n",
            "All other values are within their respective reference ranges.\n",
            "\n",
            "**Important Note:** This analysis is based solely on the provided lab results.  It is crucial to consider these results in the context of Mr. Kishan Goud's clinical presentation, medical history, and other relevant information.  A physician should interpret these results and make any necessary diagnoses and treatment plans.  The elevated Widal test and ESR strongly suggest a need for further investigation regarding a possible typhoid infection, and the hyponatremia requires immediate attention.\n",
            "\n"
          ]
        }
      ]
    },
    {
      "cell_type": "code",
      "source": [
        "def ask_gemini_about_report(text, question):\n",
        "  model=genai.GenerativeModel(\"gemini-1.5-flash\")\n",
        "  prompt=f\"The following is a health report:\\n\\n{text}\\n\\nAnswer the following question based on the report:\\n{question}\"\n",
        ""
      ],
      "metadata": {
        "id": "1Hm9sw-mVp5y"
      },
      "execution_count": null,
      "outputs": []
    }
  ]
}