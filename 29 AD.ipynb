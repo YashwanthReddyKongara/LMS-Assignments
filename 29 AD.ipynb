{
 "cells": [
  {
   "cell_type": "code",
   "execution_count": 2,
   "id": "d3d7c473",
   "metadata": {},
   "outputs": [
    {
     "name": "stdout",
     "output_type": "stream",
     "text": [
      "AnB=  {1, 2}\n",
      "AUB=  {1, 2, 3, 4, 5, 6, 8, 9}\n",
      "J(A,B)=  0.25\n"
     ]
    }
   ],
   "source": [
    "A={1,2,3,4,6}\n",
    "B={1,2,5,8,9}\n",
    "C=A.intersection(B)\n",
    "D=A.union(B)\n",
    "print('AnB= ',C)\n",
    "print(\"AUB= \",D)\n",
    "print('J(A,B)= ',float(len(C))/float(len(D)))"
   ]
  },
  {
   "cell_type": "code",
   "execution_count": 3,
   "id": "29373192",
   "metadata": {},
   "outputs": [
    {
     "name": "stdout",
     "output_type": "stream",
     "text": [
      "Jaccard Similarity: 0.375\n"
     ]
    }
   ],
   "source": [
    "def jaccard_similarity(set1,set2):\n",
    "    intersection=len(set1.intersection(set2))\n",
    "    union=len(set1.union(set2))\n",
    "    return intersection/union\n",
    "set_a={\"Language\",\"for\",\"Computer\",\"NLP\",\"Science\"}\n",
    "set_b={\"NLP\",\"for\",\"Language\",\"Data\",\"ML\",\"AI\"}\n",
    "similarity=jaccard_similarity(set_a,set_b)\n",
    "print(\"Jaccard Similarity:\", similarity)"
   ]
  },
  {
   "cell_type": "code",
   "execution_count": 6,
   "id": "d81914cd",
   "metadata": {},
   "outputs": [],
   "source": [
    "import numpy as np\n",
    "from sklearn.feature_extraction.text import TfidfVectorizer\n",
    "from sklearn.metrics.pairwise import cosine_similarity"
   ]
  },
  {
   "cell_type": "code",
   "execution_count": 23,
   "id": "b2f720e8",
   "metadata": {},
   "outputs": [],
   "source": [
    "responses=[\n",
    "    \"You can return an item within 7 days of purchase.\",\n",
    "    \"Our return policy allows you to return items that are unopened and in their original condition\",\n",
    "    \"We offer fre shipping on orders over $50.\",\n",
    "    \"To track your order, you can visit the 'Order Tracking ' page and enter your order number\",\n",
    "    \"Our customer support team is available from 9Am to 6Pm, Monday through Friday.\"\n",
    "]"
   ]
  },
  {
   "cell_type": "code",
   "execution_count": 18,
   "id": "01798694",
   "metadata": {},
   "outputs": [],
   "source": [
    "user_input=\"How can I track my order?\""
   ]
  },
  {
   "cell_type": "code",
   "execution_count": 9,
   "id": "7532fec8",
   "metadata": {},
   "outputs": [],
   "source": [
    "vectorizer=TfidfVectorizer(stop_words='english')\n",
    "all_texts=responses+[user_input]"
   ]
  },
  {
   "cell_type": "code",
   "execution_count": 10,
   "id": "da7205f1",
   "metadata": {},
   "outputs": [],
   "source": [
    "tfidf_matrix=vectorizer.fit_transform(all_texts)"
   ]
  },
  {
   "cell_type": "code",
   "execution_count": 15,
   "id": "9be65927",
   "metadata": {},
   "outputs": [],
   "source": [
    "user_vector=tfidf_matrix[-1]\n",
    "responses_vectors=tfidf_matrix[:-1]\n",
    "cosine_similarities=cosine_similarity(user_vector, responses_vectors)"
   ]
  },
  {
   "cell_type": "code",
   "execution_count": 16,
   "id": "8b79de2b",
   "metadata": {},
   "outputs": [],
   "source": [
    "most_similar_idx=np.argmax(cosine_similarities)"
   ]
  },
  {
   "cell_type": "code",
   "execution_count": 24,
   "id": "66cecf7b",
   "metadata": {},
   "outputs": [
    {
     "name": "stdout",
     "output_type": "stream",
     "text": [
      "User Query: How can I track my order?\n",
      "Most relevant responses: To track your order, you can visit the 'Order Tracking ' page and enter your order number\n"
     ]
    }
   ],
   "source": [
    "print(f\"User Query: {user_input}\")\n",
    "print(F\"Most relevant responses: {responses[most_similar_idx]}\")"
   ]
  },
  {
   "cell_type": "code",
   "execution_count": null,
   "id": "f58aa34a",
   "metadata": {},
   "outputs": [],
   "source": []
  }
 ],
 "metadata": {
  "kernelspec": {
   "display_name": "Python 3 (ipykernel)",
   "language": "python",
   "name": "python3"
  },
  "language_info": {
   "codemirror_mode": {
    "name": "ipython",
    "version": 3
   },
   "file_extension": ".py",
   "mimetype": "text/x-python",
   "name": "python",
   "nbconvert_exporter": "python",
   "pygments_lexer": "ipython3",
   "version": "3.11.5"
  }
 },
 "nbformat": 4,
 "nbformat_minor": 5
}
